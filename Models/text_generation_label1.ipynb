{
  "nbformat": 4,
  "nbformat_minor": 0,
  "metadata": {
    "colab": {
      "name": "label1 text generation.ipynb",
      "provenance": [],
      "collapsed_sections": []
    },
    "kernelspec": {
      "name": "python3",
      "display_name": "Python 3"
    }
  },
  "cells": [
    {
      "cell_type": "code",
      "metadata": {
        "id": "X8iRpghy6GmT",
        "colab_type": "code",
        "colab": {}
      },
      "source": [
        "import os\n",
        "import pandas as pd\n",
        "import numpy as np\n",
        "os.chdir('/content/drive/My Drive/tabditor/FromZero/rsc')"
      ],
      "execution_count": 0,
      "outputs": []
    },
    {
      "cell_type": "markdown",
      "metadata": {
        "id": "LYeGRtZo7Mdl",
        "colab_type": "text"
      },
      "source": [
        "# 데이터 준비"
      ]
    },
    {
      "cell_type": "code",
      "metadata": {
        "id": "wRIE68jY6oFc",
        "colab_type": "code",
        "outputId": "ee227f99-3cd8-4b77-9bd2-1e0bba0cbb62",
        "colab": {
          "base_uri": "https://localhost:8080/",
          "height": 460
        }
      },
      "source": [
        "label = pd.read_csv('label_1.csv')\n",
        "print(label.shape)\n",
        "label.head()"
      ],
      "execution_count": 3,
      "outputs": [
        {
          "output_type": "stream",
          "text": [
            "(5541, 7)\n"
          ],
          "name": "stdout"
        },
        {
          "output_type": "execute_result",
          "data": {
            "text/html": [
              "<div>\n",
              "<style scoped>\n",
              "    .dataframe tbody tr th:only-of-type {\n",
              "        vertical-align: middle;\n",
              "    }\n",
              "\n",
              "    .dataframe tbody tr th {\n",
              "        vertical-align: top;\n",
              "    }\n",
              "\n",
              "    .dataframe thead th {\n",
              "        text-align: right;\n",
              "    }\n",
              "</style>\n",
              "<table border=\"1\" class=\"dataframe\">\n",
              "  <thead>\n",
              "    <tr style=\"text-align: right;\">\n",
              "      <th></th>\n",
              "      <th>index</th>\n",
              "      <th>qus</th>\n",
              "      <th>ans</th>\n",
              "      <th>prep_qus</th>\n",
              "      <th>label</th>\n",
              "      <th>prepro_label</th>\n",
              "      <th>prepro_ans</th>\n",
              "    </tr>\n",
              "  </thead>\n",
              "  <tbody>\n",
              "    <tr>\n",
              "      <th>0</th>\n",
              "      <td>9269</td>\n",
              "      <td>[Olive Young과 함께 마음까지 All live young하는 삶을 꿈꾸다]</td>\n",
              "      <td>\\n제가 올리브영에 입사하고 싶은 이유는 올리브영만의 기업철학이 제가 지향하는 삶의...</td>\n",
              "      <td>OliveYoung과함께마음까지Allliveyoung하는삶을꿈꾸다</td>\n",
              "      <td>[1]</td>\n",
              "      <td>1</td>\n",
              "      <td>제가 올리브영에 입사하고 싶은 이유는 올리브영만의 기업철학이 제가 지향하는 삶의 방...</td>\n",
              "    </tr>\n",
              "    <tr>\n",
              "      <th>1</th>\n",
              "      <td>17155</td>\n",
              "      <td>경쟁과 협력 가운데 더 중요하다고 생각하는 것</td>\n",
              "      <td>\\r\\n무한경쟁시대일수록 역설적으로 협력의 힘이 더욱 중요하다고 생각합니다. 함께 ...</td>\n",
              "      <td>경쟁과협력가운데더중요하다고생각하는것</td>\n",
              "      <td>[1]</td>\n",
              "      <td>1</td>\n",
              "      <td>무한경쟁시대일수록 역설적으로 협력의 힘이 더욱 중요하다고 생각합니다 함께 힘을 합친...</td>\n",
              "    </tr>\n",
              "    <tr>\n",
              "      <th>2</th>\n",
              "      <td>9623</td>\n",
              "      <td>[고퀄리티 제품과 서비스를 갖춘 GS엠비즈의 고퀄리티 영업관리자가 되겠습니다]</td>\n",
              "      <td>\\r\\nGS엠비즈는 \"The Best Company for Customers\"를 비...</td>\n",
              "      <td>고퀄리티제품과서비스를갖춘GS엠비즈의고퀄리티영업관리자가되겠습니다</td>\n",
              "      <td>[1]</td>\n",
              "      <td>1</td>\n",
              "      <td>GS엠비즈는 The Best Company for Customers를 비전으로 자동...</td>\n",
              "    </tr>\n",
              "    <tr>\n",
              "      <th>3</th>\n",
              "      <td>4410</td>\n",
              "      <td>공공기관으로서 사업 추진에 필요한 영화계 의견수렴 방법을 제시하여 주십시오 1000바이트</td>\n",
              "      <td>\\r\\n\"현장 상황을 존중하는 적극적인 자세와 직접 소통의 중요성\"\\r 저는 영화진...</td>\n",
              "      <td>공공기관으로서사업추진에필요한영화계의견수렴방법을제시하여주십시오1000바이트</td>\n",
              "      <td>[1,2]</td>\n",
              "      <td>1,2</td>\n",
              "      <td>현장 상황을 존중하는 적극적인 자세와 직접 소통의 중요성 저는 영화진흥위원회의 의견...</td>\n",
              "    </tr>\n",
              "    <tr>\n",
              "      <th>4</th>\n",
              "      <td>7456</td>\n",
              "      <td>공공기관으로써 갖추어야 할 덕목</td>\n",
              "      <td>\\r\\n한국토지공사는 사기업과는 다른 공기업이기 때문에 개인보다는 국민을 먼저 생각...</td>\n",
              "      <td>공공기관으로써갖추어야할덕목</td>\n",
              "      <td>[1]</td>\n",
              "      <td>1</td>\n",
              "      <td>한국토지공사는 사기업과는 다른 공기업이기 때문에 개인보다는 국민을 먼저 생각하는 배...</td>\n",
              "    </tr>\n",
              "  </tbody>\n",
              "</table>\n",
              "</div>"
            ],
            "text/plain": [
              "   index  ...                                         prepro_ans\n",
              "0   9269  ...  제가 올리브영에 입사하고 싶은 이유는 올리브영만의 기업철학이 제가 지향하는 삶의 방...\n",
              "1  17155  ...  무한경쟁시대일수록 역설적으로 협력의 힘이 더욱 중요하다고 생각합니다 함께 힘을 합친...\n",
              "2   9623  ...  GS엠비즈는 The Best Company for Customers를 비전으로 자동...\n",
              "3   4410  ...  현장 상황을 존중하는 적극적인 자세와 직접 소통의 중요성 저는 영화진흥위원회의 의견...\n",
              "4   7456  ...  한국토지공사는 사기업과는 다른 공기업이기 때문에 개인보다는 국민을 먼저 생각하는 배...\n",
              "\n",
              "[5 rows x 7 columns]"
            ]
          },
          "metadata": {
            "tags": []
          },
          "execution_count": 3
        }
      ]
    },
    {
      "cell_type": "markdown",
      "metadata": {
        "id": "E1BdWNPw6xqU",
        "colab_type": "text"
      },
      "source": [
        "# text preprocessing"
      ]
    },
    {
      "cell_type": "code",
      "metadata": {
        "id": "ex24jrju7RWe",
        "colab_type": "code",
        "colab": {
          "base_uri": "https://localhost:8080/",
          "height": 233
        },
        "outputId": "5d0f2404-c06d-4f73-eb32-e6ffe0a289ff"
      },
      "source": [
        "label.prepro_ans"
      ],
      "execution_count": 4,
      "outputs": [
        {
          "output_type": "execute_result",
          "data": {
            "text/plain": [
              "0       제가 올리브영에 입사하고 싶은 이유는 올리브영만의 기업철학이 제가 지향하는 삶의 방...\n",
              "1       무한경쟁시대일수록 역설적으로 협력의 힘이 더욱 중요하다고 생각합니다 함께 힘을 합친...\n",
              "2       GS엠비즈는 The Best Company for Customers를 비전으로 자동...\n",
              "3       현장 상황을 존중하는 적극적인 자세와 직접 소통의 중요성 저는 영화진흥위원회의 의견...\n",
              "4       한국토지공사는 사기업과는 다른 공기업이기 때문에 개인보다는 국민을 먼저 생각하는 배...\n",
              "                              ...                        \n",
              "5536    식품 연구원으로의 성장저의 지도교수님은 한 분야의 전문가가 되려면 최소 10년의 지...\n",
              "5537    실험을 통한 분석력과 조별과제에서 배운 소통능력 생산 관리 직무는 현장에서 생산 계...\n",
              "5538    저는  태권도 동아리 소속의 아낌없이 가르쳐주고 소통하는 멘토입니다에 입학 후 건강...\n",
              "5539    병원에 입원해 본 사람은 매 시간이 얼마나 감사한지 알 것입니다 사고로 군용 차량과...\n",
              "5540    병원에 입원해 본 사람은 매 시간이 얼마나 감사한지 알 것입니다 사고로 군용 차량과...\n",
              "Name: prepro_ans, Length: 5541, dtype: object"
            ]
          },
          "metadata": {
            "tags": []
          },
          "execution_count": 4
        }
      ]
    },
    {
      "cell_type": "code",
      "metadata": {
        "id": "YUPSeRCgD6Bi",
        "colab_type": "code",
        "colab": {}
      },
      "source": [
        "from keras.preprocessing.text import Tokenizer\n",
        "\n",
        "token = Tokenizer()\n",
        "token.fit_on_texts(label.prepro_ans)"
      ],
      "execution_count": 0,
      "outputs": []
    },
    {
      "cell_type": "code",
      "metadata": {
        "id": "fTNPU65lHQDi",
        "colab_type": "code",
        "colab": {
          "base_uri": "https://localhost:8080/",
          "height": 35
        },
        "outputId": "64422a5a-599d-489e-d9c9-3b434bd305f8"
      },
      "source": [
        "len(token.word_index)"
      ],
      "execution_count": 22,
      "outputs": [
        {
          "output_type": "execute_result",
          "data": {
            "text/plain": [
              "124385"
            ]
          },
          "metadata": {
            "tags": []
          },
          "execution_count": 22
        }
      ]
    },
    {
      "cell_type": "code",
      "metadata": {
        "id": "T4pIv75gJCVW",
        "colab_type": "code",
        "colab": {
          "base_uri": "https://localhost:8080/",
          "height": 35
        },
        "outputId": "44548fc9-9c34-4e35-f616-c318fe50c55e"
      },
      "source": [
        "token.index_word[472]"
      ],
      "execution_count": 35,
      "outputs": [
        {
          "output_type": "execute_result",
          "data": {
            "text/plain": [
              "'본'"
            ]
          },
          "metadata": {
            "tags": []
          },
          "execution_count": 35
        }
      ]
    },
    {
      "cell_type": "code",
      "metadata": {
        "id": "j-unqkvlHZB0",
        "colab_type": "code",
        "colab": {}
      },
      "source": [
        "slide_data = []\n",
        "\n",
        "for i in label.prepro_ans:\n",
        "    seq_data = token.texts_to_sequences([i])\n",
        "    for j in range(1,len(seq_data[0])):\n",
        "        tmp = seq_data[0][0:j+1]\n",
        "        slide_data.append(tmp)\n",
        "\n",
        "        "
      ],
      "execution_count": 0,
      "outputs": []
    },
    {
      "cell_type": "code",
      "metadata": {
        "id": "d_l3lMmqIHdV",
        "colab_type": "code",
        "colab": {
          "base_uri": "https://localhost:8080/",
          "height": 35
        },
        "outputId": "e20d3582-3a11-4a20-838a-b5011d36974e"
      },
      "source": [
        "len(slide_sen_data)"
      ],
      "execution_count": 48,
      "outputs": [
        {
          "output_type": "execute_result",
          "data": {
            "text/plain": [
              "5541"
            ]
          },
          "metadata": {
            "tags": []
          },
          "execution_count": 48
        }
      ]
    },
    {
      "cell_type": "code",
      "metadata": {
        "id": "J8Zo_KdsO2Zq",
        "colab_type": "code",
        "colab": {
          "base_uri": "https://localhost:8080/",
          "height": 35
        },
        "outputId": "6a5c3c30-804e-4de3-9e24-ea75596c2b6a"
      },
      "source": [
        "maxlen = max([len(i) for i in slide_sen_data])\n",
        "maxlen"
      ],
      "execution_count": 50,
      "outputs": [
        {
          "output_type": "execute_result",
          "data": {
            "text/plain": [
              "785537"
            ]
          },
          "metadata": {
            "tags": []
          },
          "execution_count": 50
        }
      ]
    },
    {
      "cell_type": "code",
      "metadata": {
        "id": "7qPIAUeEIqkZ",
        "colab_type": "code",
        "colab": {}
      },
      "source": [
        "from keras.preprocessing.sequence import pad_sequences\n",
        "\n",
        "seq_data = pad_sequences(slide_sen_data,maxlen=maxlen)\n",
        "seq_data[:10]"
      ],
      "execution_count": 0,
      "outputs": []
    }
  ]
}