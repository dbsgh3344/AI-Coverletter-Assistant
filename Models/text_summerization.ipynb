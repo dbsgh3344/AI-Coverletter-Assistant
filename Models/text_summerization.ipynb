{
  "nbformat": 4,
  "nbformat_minor": 0,
  "metadata": {
    "accelerator": "GPU",
    "colab": {
      "name": "seq2seq 뉴스기사 연습.ipynb의 사본",
      "provenance": [],
      "collapsed_sections": [],
      "machine_shape": "hm"
    },
    "kernelspec": {
      "display_name": "Python 3",
      "language": "python",
      "name": "python3"
    },
    "language_info": {
      "codemirror_mode": {
        "name": "ipython",
        "version": 3
      },
      "file_extension": ".py",
      "mimetype": "text/x-python",
      "name": "python",
      "nbconvert_exporter": "python",
      "pygments_lexer": "ipython3",
      "version": "3.5.2"
    }
  },
  "cells": [
    {
      "cell_type": "code",
      "metadata": {
        "colab_type": "code",
        "id": "pRZ9Yg3No4yZ",
        "outputId": "23331e09-c324-48ea-f74a-7ec357fedef1",
        "colab": {
          "base_uri": "https://localhost:8080/",
          "height": 127
        }
      },
      "source": [
        "from google.colab import drive\n",
        "drive.mount('/content/drive')"
      ],
      "execution_count": 0,
      "outputs": [
        {
          "output_type": "stream",
          "text": [
            "Go to this URL in a browser: https://accounts.google.com/o/oauth2/auth?client_id=947318989803-6bn6qk8qdgf4n4g3pfee6491hc0brc4i.apps.googleusercontent.com&redirect_uri=urn%3aietf%3awg%3aoauth%3a2.0%3aoob&response_type=code&scope=email%20https%3a%2f%2fwww.googleapis.com%2fauth%2fdocs.test%20https%3a%2f%2fwww.googleapis.com%2fauth%2fdrive%20https%3a%2f%2fwww.googleapis.com%2fauth%2fdrive.photos.readonly%20https%3a%2f%2fwww.googleapis.com%2fauth%2fpeopleapi.readonly\n",
            "\n",
            "Enter your authorization code:\n",
            "··········\n",
            "Mounted at /content/drive\n"
          ],
          "name": "stdout"
        }
      ]
    },
    {
      "cell_type": "code",
      "metadata": {
        "colab_type": "code",
        "id": "PK_Jqv_ZovHr",
        "outputId": "076ccb1c-c107-42fb-f6df-5ff49bf3ebb6",
        "colab": {
          "base_uri": "https://localhost:8080/",
          "height": 82
        }
      },
      "source": [
        "from keras.models import Model\n",
        "from keras.layers import Input,LSTM,Dense\n",
        "import numpy as np\n"
      ],
      "execution_count": 0,
      "outputs": [
        {
          "output_type": "stream",
          "text": [
            "Using TensorFlow backend.\n"
          ],
          "name": "stderr"
        },
        {
          "output_type": "display_data",
          "data": {
            "text/html": [
              "<p style=\"color: red;\">\n",
              "The default version of TensorFlow in Colab will soon switch to TensorFlow 2.x.<br>\n",
              "We recommend you <a href=\"https://www.tensorflow.org/guide/migrate\" target=\"_blank\">upgrade</a> now \n",
              "or ensure your notebook will continue to use TensorFlow 1.x via the <code>%tensorflow_version 1.x</code> magic:\n",
              "<a href=\"https://colab.research.google.com/notebooks/tensorflow_version.ipynb\" target=\"_blank\">more info</a>.</p>\n"
            ],
            "text/plain": [
              "<IPython.core.display.HTML object>"
            ]
          },
          "metadata": {
            "tags": []
          }
        }
      ]
    },
    {
      "cell_type": "code",
      "metadata": {
        "colab_type": "code",
        "id": "UbzqGiHrpFm3",
        "colab": {}
      },
      "source": [
        "batch_size = 64\n",
        "epochs = 10\n",
        "latent_dim = 256  # Latent dimensionality of the encoding space.\n",
        "num_samples = 10000  # Number of samples to train on.\n",
        "# Path to the data txt file on disk.\n",
        "# data_path = './News.csv'\n",
        "data_path = 'drive/My Drive/tabditor/수집 데이터'"
      ],
      "execution_count": 0,
      "outputs": []
    },
    {
      "cell_type": "code",
      "metadata": {
        "colab_type": "code",
        "id": "HwCydgHbpFwh",
        "colab": {}
      },
      "source": [
        "#input은 영어 target은 프랑스어로 분리\n",
        "import pandas as pd\n",
        "input_texts = []\n",
        "target_texts = []\n",
        "input_characters = set()\n",
        "target_characters = set()\n",
        "\n",
        "data = pd.read_csv(data_path+'/title_content_split.csv')\n",
        "\n",
        "\n",
        "# with open(data_path, 'r', encoding='utf-8') as f:\n",
        "    # lines = f.read().split('\\n')\n",
        "# for line in lines[: min(num_samples, len(lines) - 1)]:\n",
        "#     input_text, target_text, _ = line.split('\\t')\n",
        "    # target_text = '\\t' + target_text + '\\n'\n",
        "    # input_texts.append(input_text)\n",
        "    # target_texts.append(target_text)\n"
      ],
      "execution_count": 0,
      "outputs": []
    },
    {
      "cell_type": "code",
      "metadata": {
        "id": "q89Z6k8OOo0x",
        "colab_type": "code",
        "outputId": "9bd162f0-5140-4fac-ff7e-a993232cc6ce",
        "colab": {
          "base_uri": "https://localhost:8080/",
          "height": 324
        }
      },
      "source": [
        "print(data.shape)\n",
        "data.head()"
      ],
      "execution_count": 0,
      "outputs": [
        {
          "output_type": "stream",
          "text": [
            "(8916, 6)\n"
          ],
          "name": "stdout"
        },
        {
          "output_type": "execute_result",
          "data": {
            "text/html": [
              "<div>\n",
              "<style scoped>\n",
              "    .dataframe tbody tr th:only-of-type {\n",
              "        vertical-align: middle;\n",
              "    }\n",
              "\n",
              "    .dataframe tbody tr th {\n",
              "        vertical-align: top;\n",
              "    }\n",
              "\n",
              "    .dataframe thead th {\n",
              "        text-align: right;\n",
              "    }\n",
              "</style>\n",
              "<table border=\"1\" class=\"dataframe\">\n",
              "  <thead>\n",
              "    <tr style=\"text-align: right;\">\n",
              "      <th></th>\n",
              "      <th>Unnamed: 0</th>\n",
              "      <th>jss_id</th>\n",
              "      <th>nb_pat</th>\n",
              "      <th>title</th>\n",
              "      <th>content</th>\n",
              "      <th>between</th>\n",
              "    </tr>\n",
              "  </thead>\n",
              "  <tbody>\n",
              "    <tr>\n",
              "      <th>0</th>\n",
              "      <td>0</td>\n",
              "      <td>1</td>\n",
              "      <td>1</td>\n",
              "      <td>\"교내 스포츠 경기 활성화를 위한 노력\"\\n\\n</td>\n",
              "      <td>대학 3학년 때 교내 배구 서포터즈 활동을 했습니다. 타과생들에겐 생소할 수 있는 ...</td>\n",
              "      <td>\\n대</td>\n",
              "    </tr>\n",
              "    <tr>\n",
              "      <th>1</th>\n",
              "      <td>1</td>\n",
              "      <td>1</td>\n",
              "      <td>1</td>\n",
              "      <td>\"스포츠를 향한 오랜 관심\"\\n\\n</td>\n",
              "      <td>중학교 정규수업을 들으며 스포츠를 처음 접했으며 모든 종목 수행평가에서 만점을 받으...</td>\n",
              "      <td>\\n중</td>\n",
              "    </tr>\n",
              "    <tr>\n",
              "      <th>2</th>\n",
              "      <td>2</td>\n",
              "      <td>2</td>\n",
              "      <td>1</td>\n",
              "      <td>\"매출 손실을 막기 위한 관리자가 지녀야 할 책임감\"\\n\\n</td>\n",
              "      <td>2년 전 카페의 관리자로 근무하며, 과발주로 인해 매장의 매출 손실을 막은 경험이 ...</td>\n",
              "      <td>\\n2</td>\n",
              "    </tr>\n",
              "    <tr>\n",
              "      <th>3</th>\n",
              "      <td>3</td>\n",
              "      <td>3</td>\n",
              "      <td>1</td>\n",
              "      <td>\"탁월한 지식 수용 능력과 응용력\"\\n\\n</td>\n",
              "      <td>새로운 지식을 수용하는 데 탁월한 학습능력을 갖추고 있습니다.\\n대학 2학년 때 가...</td>\n",
              "      <td>\\n새</td>\n",
              "    </tr>\n",
              "    <tr>\n",
              "      <th>4</th>\n",
              "      <td>4</td>\n",
              "      <td>3</td>\n",
              "      <td>1</td>\n",
              "      <td>\"체계적인 계획을 통한 걱정 줄이기\"\\n\\n</td>\n",
              "      <td>반면 현재에 집중하기 보다 앞선 걱정을 많이 하는 경향이 있습니다. 특히 시험을 준...</td>\n",
              "      <td>\\n반</td>\n",
              "    </tr>\n",
              "  </tbody>\n",
              "</table>\n",
              "</div>"
            ],
            "text/plain": [
              "   Unnamed: 0  ...  between\n",
              "0           0  ...      \\n대\n",
              "1           1  ...      \\n중\n",
              "2           2  ...      \\n2\n",
              "3           3  ...      \\n새\n",
              "4           4  ...      \\n반\n",
              "\n",
              "[5 rows x 6 columns]"
            ]
          },
          "metadata": {
            "tags": []
          },
          "execution_count": 5
        }
      ]
    },
    {
      "cell_type": "code",
      "metadata": {
        "id": "5Oz8HAV-tg6P",
        "colab_type": "code",
        "outputId": "f3926c59-681b-4262-f67f-867322aa99dc",
        "colab": {
          "base_uri": "https://localhost:8080/",
          "height": 35
        }
      },
      "source": [
        "data['title'].str.contains('불가능성은').sum()"
      ],
      "execution_count": 0,
      "outputs": [
        {
          "output_type": "execute_result",
          "data": {
            "text/plain": [
              "7"
            ]
          },
          "metadata": {
            "tags": []
          },
          "execution_count": 15
        }
      ]
    },
    {
      "cell_type": "code",
      "metadata": {
        "id": "OcsqZdOEtjEI",
        "colab_type": "code",
        "outputId": "caac4ba4-19cd-48d6-8767-cc065f1b2983",
        "colab": {
          "base_uri": "https://localhost:8080/",
          "height": 35
        }
      },
      "source": [
        "data['title'].str.contains('불가능은').sum()"
      ],
      "execution_count": 0,
      "outputs": [
        {
          "output_type": "execute_result",
          "data": {
            "text/plain": [
              "1"
            ]
          },
          "metadata": {
            "tags": []
          },
          "execution_count": 16
        }
      ]
    },
    {
      "cell_type": "code",
      "metadata": {
        "id": "PyXxvhb_PZTQ",
        "colab_type": "code",
        "colab": {}
      },
      "source": [
        "import os \n",
        "\n",
        "os.sys.path.append('drive/My Drive/tabditor/소스코드/기능4. 제목 추출/')\n",
        "\n",
        "from krt_p3_modified import *"
      ],
      "execution_count": 0,
      "outputs": []
    },
    {
      "cell_type": "code",
      "metadata": {
        "id": "sdBgjG8FSaUy",
        "colab_type": "code",
        "outputId": "2980cb77-a593-4d81-dd5b-fab256d0527e",
        "colab": {
          "base_uri": "https://localhost:8080/",
          "height": 215
        }
      },
      "source": [
        "data.info()"
      ],
      "execution_count": 0,
      "outputs": [
        {
          "output_type": "stream",
          "text": [
            "<class 'pandas.core.frame.DataFrame'>\n",
            "RangeIndex: 8916 entries, 0 to 8915\n",
            "Data columns (total 6 columns):\n",
            "Unnamed: 0    8916 non-null int64\n",
            "jss_id        8916 non-null int64\n",
            "nb_pat        8916 non-null int64\n",
            "title         8916 non-null object\n",
            "content       8914 non-null object\n",
            "between       8916 non-null object\n",
            "dtypes: int64(3), object(3)\n",
            "memory usage: 418.1+ KB\n"
          ],
          "name": "stdout"
        }
      ]
    },
    {
      "cell_type": "code",
      "metadata": {
        "id": "rbGiU2CZSkYB",
        "colab_type": "code",
        "outputId": "e8569c5f-f032-4db7-9593-743f7131e760",
        "colab": {
          "base_uri": "https://localhost:8080/",
          "height": 233
        }
      },
      "source": [
        "data['content'][:100]"
      ],
      "execution_count": 0,
      "outputs": [
        {
          "output_type": "execute_result",
          "data": {
            "text/plain": [
              "0     대학 3학년 때 교내 배구 서포터즈 활동을 했습니다. 타과생들에겐 생소할 수 있는 ...\n",
              "1     중학교 정규수업을 들으며 스포츠를 처음 접했으며 모든 종목 수행평가에서 만점을 받으...\n",
              "2     2년 전 카페의 관리자로 근무하며, 과발주로 인해 매장의 매출 손실을 막은 경험이 ...\n",
              "3     새로운 지식을 수용하는 데 탁월한 학습능력을 갖추고 있습니다.\\n대학 2학년 때 가...\n",
              "4     반면 현재에 집중하기 보다 앞선 걱정을 많이 하는 경향이 있습니다. 특히 시험을 준...\n",
              "                            ...                        \n",
              "95    저는 CJ그룹이 안정적인 IT시스템 운영을 위해 주요 계열사의 IT시스템을 모두 클...\n",
              "96    2학년 2학기에 '소프트웨어설계'과목을 수강하여 UML을 이용한 소프트웨어 시스템 ...\n",
              "97    부모님의 사정으로 잦은 전학을 경험하며 매번 새로운 상황에 적응해야 했습니다. 어색...\n",
              "98    최근 온라인 및 모바일 거래가 활성화되면서 오프라인 은행 지점이 급격히 줄고 있습니...\n",
              "99    두 번의 봉사활동을 통해 '상대방의 입장에서 생각하는 것의 중요성'을 깨달은 적이 ...\n",
              "Name: content, Length: 100, dtype: object"
            ]
          },
          "metadata": {
            "tags": []
          },
          "execution_count": 9
        }
      ]
    },
    {
      "cell_type": "code",
      "metadata": {
        "id": "KE_IuFLGV-uq",
        "colab_type": "code",
        "colab": {}
      },
      "source": [
        "# 결측치 제거\n",
        "data = data.dropna(axis=0)"
      ],
      "execution_count": 0,
      "outputs": []
    },
    {
      "cell_type": "code",
      "metadata": {
        "id": "0sjLOKvXVlu2",
        "colab_type": "code",
        "outputId": "11add2a4-7361-4a26-e74e-bae982284ff4",
        "colab": {
          "base_uri": "https://localhost:8080/",
          "height": 49
        }
      },
      "source": [
        "data.loc[data['content'].isnull()] "
      ],
      "execution_count": 0,
      "outputs": [
        {
          "output_type": "execute_result",
          "data": {
            "text/html": [
              "<div>\n",
              "<style scoped>\n",
              "    .dataframe tbody tr th:only-of-type {\n",
              "        vertical-align: middle;\n",
              "    }\n",
              "\n",
              "    .dataframe tbody tr th {\n",
              "        vertical-align: top;\n",
              "    }\n",
              "\n",
              "    .dataframe thead th {\n",
              "        text-align: right;\n",
              "    }\n",
              "</style>\n",
              "<table border=\"1\" class=\"dataframe\">\n",
              "  <thead>\n",
              "    <tr style=\"text-align: right;\">\n",
              "      <th></th>\n",
              "      <th>Unnamed: 0</th>\n",
              "      <th>jss_id</th>\n",
              "      <th>nb_pat</th>\n",
              "      <th>title</th>\n",
              "      <th>content</th>\n",
              "      <th>between</th>\n",
              "    </tr>\n",
              "  </thead>\n",
              "  <tbody>\n",
              "  </tbody>\n",
              "</table>\n",
              "</div>"
            ],
            "text/plain": [
              "Empty DataFrame\n",
              "Columns: [Unnamed: 0, jss_id, nb_pat, title, content, between]\n",
              "Index: []"
            ]
          },
          "metadata": {
            "tags": []
          },
          "execution_count": 12
        }
      ]
    },
    {
      "cell_type": "code",
      "metadata": {
        "id": "pBhY5_eLQZeN",
        "colab_type": "code",
        "colab": {}
      },
      "source": [
        "import re \n",
        "pat = re.compile('[^가-힣a-zA-Z1-9 ]')\n",
        "\n",
        "# data['content'].apply(lambda x :romanize(pat.sub('',x)).lower())"
      ],
      "execution_count": 0,
      "outputs": []
    },
    {
      "cell_type": "code",
      "metadata": {
        "id": "WmrVKRL2OntY",
        "colab_type": "code",
        "colab": {}
      },
      "source": [
        "input_texts = data['content'].apply(lambda x : romanize(pat.sub('',x)).lower())\n",
        "target_texts = data['title'].apply(lambda x: romanize('\\t'+ pat.sub('',x)).lower())\n",
        "\n",
        "# input_characters = set()\n",
        "# target_characters = set()\n",
        "\n",
        "for sentence in input_texts:    \n",
        "    for char in sentence:\n",
        "        if char not in input_characters:\n",
        "            input_characters.add(char)\n",
        "for sentence in target_texts:\n",
        "    for char in sentence:\n",
        "        if char not in target_characters:\n",
        "            target_characters.add(char)\n"
      ],
      "execution_count": 0,
      "outputs": []
    },
    {
      "cell_type": "code",
      "metadata": {
        "id": "TSeXvi0wublY",
        "colab_type": "code",
        "outputId": "0c30ca67-c290-4022-a345-949172a7dc51",
        "colab": {
          "base_uri": "https://localhost:8080/",
          "height": 233
        }
      },
      "source": [
        "input_texts"
      ],
      "execution_count": 0,
      "outputs": [
        {
          "output_type": "execute_result",
          "data": {
            "text/plain": [
              "0       tay.hak 3haknyen ttay kyo.nay pay.kwu se.pho.t...\n",
              "1       cwunghak.kyo cengkyu.swu.ep.ul tul.u.mye su.ph...\n",
              "2       2nyen cen kha.phey.uy kwanli.ca.lo kunmwu.ha.m...\n",
              "3       say.lo.wun ci.sik.ul swu.yongha.nun tey thak.w...\n",
              "4       panmyen hyen.cay.ey cipcwungha.ki po.ta aphsen...\n",
              "                              ...                        \n",
              "8911    chang.ep ci.wen kongmo.cen.ey chamka.hayss.sup...\n",
              "8912     senpay.tul.uy chwu.chen.ul pat.a 13nyento ton...\n",
              "8913     no.lyek.ha.nun kes i.sang.u.lo cwung.yo.han k...\n",
              "8914    cenkongkwa.mok cwung so.pi.ca hayngtongpwunsek...\n",
              "8915    68nyen.uy centhongkwa choy.ko.cham sangphyo.lu...\n",
              "Name: content, Length: 8914, dtype: object"
            ]
          },
          "metadata": {
            "tags": []
          },
          "execution_count": 15
        }
      ]
    },
    {
      "cell_type": "code",
      "metadata": {
        "id": "GKfwiQ4UoZS0",
        "colab_type": "code",
        "outputId": "1f84c651-1f5f-4e95-c16d-43338344ec24",
        "colab": {
          "base_uri": "https://localhost:8080/",
          "height": 204
        }
      },
      "source": [
        "news_data = pd.read_csv('/content/drive/My Drive/tabditor/소스코드/기능4. 제목 추출/news_headline_text.csv')\n",
        "\n",
        "news_data.head()"
      ],
      "execution_count": 0,
      "outputs": [
        {
          "output_type": "execute_result",
          "data": {
            "text/html": [
              "<div>\n",
              "<style scoped>\n",
              "    .dataframe tbody tr th:only-of-type {\n",
              "        vertical-align: middle;\n",
              "    }\n",
              "\n",
              "    .dataframe tbody tr th {\n",
              "        vertical-align: top;\n",
              "    }\n",
              "\n",
              "    .dataframe thead th {\n",
              "        text-align: right;\n",
              "    }\n",
              "</style>\n",
              "<table border=\"1\" class=\"dataframe\">\n",
              "  <thead>\n",
              "    <tr style=\"text-align: right;\">\n",
              "      <th></th>\n",
              "      <th>Unnamed: 0</th>\n",
              "      <th>summary</th>\n",
              "      <th>text</th>\n",
              "    </tr>\n",
              "  </thead>\n",
              "  <tbody>\n",
              "    <tr>\n",
              "      <th>0</th>\n",
              "      <td>0</td>\n",
              "      <td>한국당, '북 주민 송환' 쟁점화 시도…\"새빨간 거짓말…국가살인\"</td>\n",
              "      <td>자유한국당은 13일 북한 주민 송환과 관련한 논란에 화력을 집중하며 이 문제를 낱낱...</td>\n",
              "    </tr>\n",
              "    <tr>\n",
              "      <th>1</th>\n",
              "      <td>1</td>\n",
              "      <td>국방부, 구타·가혹행위로 극단선택 장병 6명 '순직' 결정</td>\n",
              "      <td>선임의 구타와 가혹행위로 스스로 목숨을 끊은 장병 6명이 뒤늦게 '순직' 판정을 받...</td>\n",
              "    </tr>\n",
              "    <tr>\n",
              "      <th>2</th>\n",
              "      <td>2</td>\n",
              "      <td>북, 베트남과 밀월 과시…노동신문 \"양국관계 소중해\"</td>\n",
              "      <td>북한이 김일성 주석의 베트남 방문 55주년을 계기로 양국간 친선 우호를 재차 강조했...</td>\n",
              "    </tr>\n",
              "    <tr>\n",
              "      <th>3</th>\n",
              "      <td>3</td>\n",
              "      <td>밀리 미 합참의장 방한…내일 44차 한미군사위원회 개최</td>\n",
              "      <td>마크 밀리 미국 합참의장이 13일 한국을 방문한다.취임 후 처음으로 일본에 이어 한...</td>\n",
              "    </tr>\n",
              "    <tr>\n",
              "      <th>4</th>\n",
              "      <td>4</td>\n",
              "      <td>민주당, '청년신도시' 총선공약 검토…3기 신도시 일부 전환 가능성</td>\n",
              "      <td>더불어민주당이 내년 총선에서 '청년신도시 조성'을 핵심공약 중 하나로 내세우는 방안...</td>\n",
              "    </tr>\n",
              "  </tbody>\n",
              "</table>\n",
              "</div>"
            ],
            "text/plain": [
              "   Unnamed: 0  ...                                               text\n",
              "0           0  ...  자유한국당은 13일 북한 주민 송환과 관련한 논란에 화력을 집중하며 이 문제를 낱낱...\n",
              "1           1  ...  선임의 구타와 가혹행위로 스스로 목숨을 끊은 장병 6명이 뒤늦게 '순직' 판정을 받...\n",
              "2           2  ...  북한이 김일성 주석의 베트남 방문 55주년을 계기로 양국간 친선 우호를 재차 강조했...\n",
              "3           3  ...  마크 밀리 미국 합참의장이 13일 한국을 방문한다.취임 후 처음으로 일본에 이어 한...\n",
              "4           4  ...  더불어민주당이 내년 총선에서 '청년신도시 조성'을 핵심공약 중 하나로 내세우는 방안...\n",
              "\n",
              "[5 rows x 3 columns]"
            ]
          },
          "metadata": {
            "tags": []
          },
          "execution_count": 16
        }
      ]
    },
    {
      "cell_type": "code",
      "metadata": {
        "id": "ZOYvtdHnoUga",
        "colab_type": "code",
        "colab": {}
      },
      "source": [
        "\n",
        "pat2 = re.compile('[一-龥]')\n",
        "input_texts2 = [pat2.sub('',romanize(i).lower()) for i in news_data['text']]\n",
        "target_texts2 = [pat2.sub('',romanize(i).lower()) for i in news_data['summary'].apply(lambda x: '\\t'+ x + '\\n')]\n",
        "pat = re.compile('[^一-龥]')\n",
        "\n",
        "input_characters = set()\n",
        "target_characters = set()\n",
        "\n",
        "for sentence in input_texts2:    \n",
        "    for char in sentence:\n",
        "        if pat.search(char):\n",
        "            if char not in input_characters:\n",
        "                input_characters.add(char)\n",
        "            \n",
        "for sentence in target_texts2:\n",
        "    for char in sentence:\n",
        "        if pat.search(char):\n",
        "            if char not in target_characters:\n",
        "                target_characters.add(char)"
      ],
      "execution_count": 0,
      "outputs": []
    },
    {
      "cell_type": "code",
      "metadata": {
        "colab_type": "code",
        "id": "8vOjev6e--OB",
        "outputId": "bdd547d7-f0c3-41d1-aaba-5867fb62c036",
        "colab": {
          "base_uri": "https://localhost:8080/",
          "height": 215
        }
      },
      "source": [
        "target_texts[:10]"
      ],
      "execution_count": 0,
      "outputs": [
        {
          "output_type": "execute_result",
          "data": {
            "text/plain": [
              "0    \\tkyo.nay su.pho.chu kyengki hwal.senghwa.lul ...\n",
              "1             \\tsu.pho.chu.lul hyanghan o.layn kwansim\n",
              "2    \\tmay.chwul sonsil.ul mak.ki wi.han kwanli.ca....\n",
              "3    \\tthak.wel.han ci.sik swu.yong nunglyek.kwa un...\n",
              "4    \\tchey.kyey.cek.in kyey.hoyk.ul thonghan kekce...\n",
              "5            \\tso.thongkwa kongkam.un mansa.hyengthong\n",
              "6              \\ttan.chey.uy cay.ceng.ul kay.sen.ha.ta\n",
              "7                            \\tinsayng.uy cen.hwan.cem\n",
              "8           \\tto.si.konghak.ey.se san.epkonghak.kka.ci\n",
              "9          \\thankwuk tho.pak.i.uy hay.oy.inthen to.cen\n",
              "Name: title, dtype: object"
            ]
          },
          "metadata": {
            "tags": []
          },
          "execution_count": 18
        }
      ]
    },
    {
      "cell_type": "code",
      "metadata": {
        "colab_type": "code",
        "id": "3Dj1D6wTt2X6",
        "outputId": "a9d2412c-e34b-4bb3-d989-359e7a669fbb",
        "colab": {
          "base_uri": "https://localhost:8080/",
          "height": 324
        }
      },
      "source": [
        "print(data.shape)\n",
        "data.head() "
      ],
      "execution_count": 0,
      "outputs": [
        {
          "output_type": "stream",
          "text": [
            "(8914, 6)\n"
          ],
          "name": "stdout"
        },
        {
          "output_type": "execute_result",
          "data": {
            "text/html": [
              "<div>\n",
              "<style scoped>\n",
              "    .dataframe tbody tr th:only-of-type {\n",
              "        vertical-align: middle;\n",
              "    }\n",
              "\n",
              "    .dataframe tbody tr th {\n",
              "        vertical-align: top;\n",
              "    }\n",
              "\n",
              "    .dataframe thead th {\n",
              "        text-align: right;\n",
              "    }\n",
              "</style>\n",
              "<table border=\"1\" class=\"dataframe\">\n",
              "  <thead>\n",
              "    <tr style=\"text-align: right;\">\n",
              "      <th></th>\n",
              "      <th>Unnamed: 0</th>\n",
              "      <th>jss_id</th>\n",
              "      <th>nb_pat</th>\n",
              "      <th>title</th>\n",
              "      <th>content</th>\n",
              "      <th>between</th>\n",
              "    </tr>\n",
              "  </thead>\n",
              "  <tbody>\n",
              "    <tr>\n",
              "      <th>0</th>\n",
              "      <td>0</td>\n",
              "      <td>1</td>\n",
              "      <td>1</td>\n",
              "      <td>\"교내 스포츠 경기 활성화를 위한 노력\"\\n\\n</td>\n",
              "      <td>대학 3학년 때 교내 배구 서포터즈 활동을 했습니다. 타과생들에겐 생소할 수 있는 ...</td>\n",
              "      <td>\\n대</td>\n",
              "    </tr>\n",
              "    <tr>\n",
              "      <th>1</th>\n",
              "      <td>1</td>\n",
              "      <td>1</td>\n",
              "      <td>1</td>\n",
              "      <td>\"스포츠를 향한 오랜 관심\"\\n\\n</td>\n",
              "      <td>중학교 정규수업을 들으며 스포츠를 처음 접했으며 모든 종목 수행평가에서 만점을 받으...</td>\n",
              "      <td>\\n중</td>\n",
              "    </tr>\n",
              "    <tr>\n",
              "      <th>2</th>\n",
              "      <td>2</td>\n",
              "      <td>2</td>\n",
              "      <td>1</td>\n",
              "      <td>\"매출 손실을 막기 위한 관리자가 지녀야 할 책임감\"\\n\\n</td>\n",
              "      <td>2년 전 카페의 관리자로 근무하며, 과발주로 인해 매장의 매출 손실을 막은 경험이 ...</td>\n",
              "      <td>\\n2</td>\n",
              "    </tr>\n",
              "    <tr>\n",
              "      <th>3</th>\n",
              "      <td>3</td>\n",
              "      <td>3</td>\n",
              "      <td>1</td>\n",
              "      <td>\"탁월한 지식 수용 능력과 응용력\"\\n\\n</td>\n",
              "      <td>새로운 지식을 수용하는 데 탁월한 학습능력을 갖추고 있습니다.\\n대학 2학년 때 가...</td>\n",
              "      <td>\\n새</td>\n",
              "    </tr>\n",
              "    <tr>\n",
              "      <th>4</th>\n",
              "      <td>4</td>\n",
              "      <td>3</td>\n",
              "      <td>1</td>\n",
              "      <td>\"체계적인 계획을 통한 걱정 줄이기\"\\n\\n</td>\n",
              "      <td>반면 현재에 집중하기 보다 앞선 걱정을 많이 하는 경향이 있습니다. 특히 시험을 준...</td>\n",
              "      <td>\\n반</td>\n",
              "    </tr>\n",
              "  </tbody>\n",
              "</table>\n",
              "</div>"
            ],
            "text/plain": [
              "   Unnamed: 0  ...  between\n",
              "0           0  ...      \\n대\n",
              "1           1  ...      \\n중\n",
              "2           2  ...      \\n2\n",
              "3           3  ...      \\n새\n",
              "4           4  ...      \\n반\n",
              "\n",
              "[5 rows x 6 columns]"
            ]
          },
          "metadata": {
            "tags": []
          },
          "execution_count": 19
        }
      ]
    },
    {
      "cell_type": "code",
      "metadata": {
        "colab_type": "code",
        "id": "fGv6YBcDAUu_",
        "outputId": "70c30f0a-834b-47ef-9021-e93ad665a9f1",
        "colab": {
          "base_uri": "https://localhost:8080/",
          "height": 1000
        }
      },
      "source": [
        "input_characters"
      ],
      "execution_count": 0,
      "outputs": [
        {
          "output_type": "execute_result",
          "data": {
            "text/plain": [
              "{' ',\n",
              " '!',\n",
              " '\"',\n",
              " '#',\n",
              " '%',\n",
              " '&',\n",
              " \"'\",\n",
              " '(',\n",
              " ')',\n",
              " '*',\n",
              " '+',\n",
              " ',',\n",
              " '-',\n",
              " '.',\n",
              " '/',\n",
              " '0',\n",
              " '1',\n",
              " '2',\n",
              " '3',\n",
              " '4',\n",
              " '5',\n",
              " '6',\n",
              " '7',\n",
              " '8',\n",
              " '9',\n",
              " ':',\n",
              " '<',\n",
              " '=',\n",
              " '>',\n",
              " '?',\n",
              " '@',\n",
              " '[',\n",
              " ']',\n",
              " '`',\n",
              " 'a',\n",
              " 'b',\n",
              " 'c',\n",
              " 'd',\n",
              " 'e',\n",
              " 'f',\n",
              " 'g',\n",
              " 'h',\n",
              " 'i',\n",
              " 'j',\n",
              " 'k',\n",
              " 'l',\n",
              " 'm',\n",
              " 'n',\n",
              " 'o',\n",
              " 'p',\n",
              " 'q',\n",
              " 'r',\n",
              " 's',\n",
              " 't',\n",
              " 'u',\n",
              " 'v',\n",
              " 'w',\n",
              " 'x',\n",
              " 'y',\n",
              " 'z',\n",
              " '}',\n",
              " '~',\n",
              " '\\xa0',\n",
              " '\\xad',\n",
              " '±',\n",
              " '·',\n",
              " 'α',\n",
              " '‘',\n",
              " '’',\n",
              " '…',\n",
              " '※',\n",
              " 'ℓ',\n",
              " '⅓',\n",
              " '↑',\n",
              " '→',\n",
              " '↓',\n",
              " '∼',\n",
              " '■',\n",
              " '▲',\n",
              " '▶',\n",
              " '▼',\n",
              " '◆',\n",
              " '◇',\n",
              " '○',\n",
              " '☎',\n",
              " '♡',\n",
              " '♬',\n",
              " 'か',\n",
              " 'な',\n",
              " '㎍',\n",
              " '㎎',\n",
              " '㎏',\n",
              " '㎘',\n",
              " '㎝',\n",
              " '㎞',\n",
              " '㎡',\n",
              " '㎥',\n",
              " '㏄',\n",
              " '奈',\n",
              " '論',\n",
              " '不',\n",
              " '兩',\n",
              " '立',\n",
              " 'ｍ',\n",
              " '｜'}"
            ]
          },
          "metadata": {
            "tags": []
          },
          "execution_count": 20
        }
      ]
    },
    {
      "cell_type": "code",
      "metadata": {
        "colab_type": "code",
        "id": "UGgQwcLLtV1K",
        "outputId": "f4c6fe9e-b52b-48f4-c1bd-e43a2b00308a",
        "colab": {
          "base_uri": "https://localhost:8080/",
          "height": 53
        }
      },
      "source": [
        "print(len(input_characters))\n",
        "print(len(target_characters))"
      ],
      "execution_count": 0,
      "outputs": [
        {
          "output_type": "stream",
          "text": [
            "105\n",
            "61\n"
          ],
          "name": "stdout"
        }
      ]
    },
    {
      "cell_type": "code",
      "metadata": {
        "colab_type": "code",
        "id": "rtnndXbdtzVQ",
        "outputId": "4b0de6b9-684b-48d2-dac8-790aa689bf22",
        "colab": {
          "base_uri": "https://localhost:8080/",
          "height": 107
        }
      },
      "source": [
        "#고유 문자 개수 및 단어 길이가 가장 긴 값을 변수에 지정.\n",
        "import numpy as np\n",
        "input_characters = sorted(list(input_characters))\n",
        "target_characters = sorted(list(target_characters))\n",
        "num_encoder_tokens = len(input_characters)\n",
        "num_decoder_tokens = len(target_characters)\n",
        "max_encoder_seq_length = int(np.mean([len(txt) for txt in input_texts]))\n",
        "max_decoder_seq_length = max([len(txt) for txt in target_texts])\n",
        "print('Number of samples:', len(input_texts))\n",
        "print('Number of unique input tokens:', num_encoder_tokens)\n",
        "print('Number of unique output tokens:', num_decoder_tokens)\n",
        "print('Max sequence length for inputs:', max_encoder_seq_length)\n",
        "print('Max sequence length for outputs:', max_decoder_seq_length)"
      ],
      "execution_count": 0,
      "outputs": [
        {
          "output_type": "stream",
          "text": [
            "Number of samples: 8914\n",
            "Number of unique input tokens: 105\n",
            "Number of unique output tokens: 61\n",
            "Max sequence length for inputs: 1436\n",
            "Max sequence length for outputs: 179\n"
          ],
          "name": "stdout"
        }
      ]
    },
    {
      "cell_type": "code",
      "metadata": {
        "colab_type": "code",
        "id": "WFM4BWNWpF5V",
        "colab": {}
      },
      "source": [
        "# 딕셔너리에 인덱스로 값을 변환해서 저장. \n",
        "input_token_index = dict(\n",
        "    [(char, i) for i, char in enumerate(input_characters)])\n",
        "target_token_index = dict(\n",
        "    [(char, i) for i, char in enumerate(target_characters)])\n",
        "\n",
        "# "
      ],
      "execution_count": 0,
      "outputs": []
    },
    {
      "cell_type": "code",
      "metadata": {
        "colab_type": "code",
        "id": "OW0libLjuhDl",
        "colab": {}
      },
      "source": [
        "encoder_input_data = np.zeros(\n",
        "    (len(input_texts), max_encoder_seq_length, num_encoder_tokens),\n",
        "    dtype='float32')\n",
        "decoder_input_data = np.zeros(\n",
        "    (len(input_texts), max_decoder_seq_length, num_decoder_tokens),\n",
        "    dtype='float32')\n",
        "decoder_target_data = np.zeros(\n",
        "    (len(input_texts), max_decoder_seq_length, num_decoder_tokens),\n",
        "    dtype='float32')"
      ],
      "execution_count": 0,
      "outputs": []
    },
    {
      "cell_type": "code",
      "metadata": {
        "colab_type": "code",
        "id": "AmhXI6VXuWLJ",
        "colab": {}
      },
      "source": [
        "for i, (input_text, target_text) in enumerate(zip(input_texts, target_texts)):\n",
        "    # if t>=1436: 이것때매 실행이 안됬네? \n",
        "    #     break   \n",
        "    for t, char in enumerate(input_text):\n",
        "        if t>=1436:\n",
        "            break\n",
        "        # try:   \n",
        "        encoder_input_data[i, t, input_token_index[char]] = 1.\n",
        "        # print(char)\n",
        "        # except:\n",
        "        #     pass\n",
        "    # try:\n",
        "    encoder_input_data[i, t + 1:, input_token_index[' ']] = 1.\n",
        "    # except:\n",
        "    #     pass\n",
        "    for t, char in enumerate(target_text):\n",
        "        # decoder_target_data is ahead of decoder_input_data by one timestep\n",
        "        \n",
        "        # try:\n",
        "        decoder_input_data[i, t, target_token_index[char]] = 1.\n",
        "        # except:\n",
        "        #     pass\n",
        "        \n",
        "        if t > 0:\n",
        "            # decoder_target_data will be ahead by one timestep\n",
        "            # and will not include the start character.\n",
        "            # try:\n",
        "            decoder_target_data[i, t - 1, target_token_index[char]] = 1.\n",
        "            # except:\n",
        "            #     pass\n",
        "    if t>=1436:\n",
        "        break\n",
        "    # try:\n",
        "    decoder_input_data[i, t + 1:, target_token_index[' ']] = 1.\n",
        "    decoder_target_data[i, t:, target_token_index[' ']] = 1.\n",
        "\n",
        "    # except:\n",
        "    #     pass"
      ],
      "execution_count": 0,
      "outputs": []
    },
    {
      "cell_type": "code",
      "metadata": {
        "colab_type": "code",
        "id": "JJ_A3lggvpct",
        "outputId": "de9ae4e7-0827-48f1-e065-59e1a7f01788",
        "colab": {
          "base_uri": "https://localhost:8080/",
          "height": 143
        }
      },
      "source": [
        "encoder_input_data[0][3]"
      ],
      "execution_count": 0,
      "outputs": [
        {
          "output_type": "execute_result",
          "data": {
            "text/plain": [
              "array([0., 0., 0., 0., 0., 0., 0., 0., 0., 0., 0., 0., 0., 1., 0., 0., 0.,\n",
              "       0., 0., 0., 0., 0., 0., 0., 0., 0., 0., 0., 0., 0., 0., 0., 0., 0.,\n",
              "       0., 0., 0., 0., 0., 0., 0., 0., 0., 0., 0., 0., 0., 0., 0., 0., 0.,\n",
              "       0., 0., 0., 0., 0., 0., 0., 0., 0., 0., 0., 0., 0., 0., 0., 0., 0.,\n",
              "       0., 0., 0., 0., 0., 0., 0., 0., 0., 0., 0., 0., 0., 0., 0., 0., 0.,\n",
              "       0., 0., 0., 0., 0., 0., 0., 0., 0., 0., 0., 0., 0., 0., 0., 0., 0.,\n",
              "       0., 0., 0.], dtype=float32)"
            ]
          },
          "metadata": {
            "tags": []
          },
          "execution_count": 28
        }
      ]
    },
    {
      "cell_type": "code",
      "metadata": {
        "colab_type": "code",
        "id": "aqjK9XdbvqvC",
        "outputId": "ffb72c6f-ceaa-4a38-9bdb-bd9b8c520a46",
        "colab": {
          "base_uri": "https://localhost:8080/",
          "height": 35
        }
      },
      "source": [
        "encoder_input_data.shape"
      ],
      "execution_count": 0,
      "outputs": [
        {
          "output_type": "execute_result",
          "data": {
            "text/plain": [
              "(8914, 1436, 105)"
            ]
          },
          "metadata": {
            "tags": []
          },
          "execution_count": 29
        }
      ]
    },
    {
      "cell_type": "code",
      "metadata": {
        "colab_type": "code",
        "id": "pf200NyZvq4U",
        "outputId": "04822a1b-9f8f-4426-a162-559210aedc4d",
        "colab": {
          "base_uri": "https://localhost:8080/",
          "height": 145
        }
      },
      "source": [
        "encoder_inputs = Input(shape=(None, num_encoder_tokens))\n",
        "encoder = LSTM(latent_dim, return_state=True)\n",
        "encoder_outputs, state_h, state_c = encoder(encoder_inputs)\n",
        "# We discard `encoder_outputs` and only keep the states.\n",
        "encoder_states = [state_h, state_c]"
      ],
      "execution_count": 0,
      "outputs": [
        {
          "output_type": "stream",
          "text": [
            "WARNING:tensorflow:From /usr/local/lib/python3.6/dist-packages/keras/backend/tensorflow_backend.py:66: The name tf.get_default_graph is deprecated. Please use tf.compat.v1.get_default_graph instead.\n",
            "\n",
            "WARNING:tensorflow:From /usr/local/lib/python3.6/dist-packages/keras/backend/tensorflow_backend.py:541: The name tf.placeholder is deprecated. Please use tf.compat.v1.placeholder instead.\n",
            "\n",
            "WARNING:tensorflow:From /usr/local/lib/python3.6/dist-packages/keras/backend/tensorflow_backend.py:4432: The name tf.random_uniform is deprecated. Please use tf.random.uniform instead.\n",
            "\n"
          ],
          "name": "stdout"
        }
      ]
    },
    {
      "cell_type": "code",
      "metadata": {
        "colab_type": "code",
        "id": "ULtVNXXFvrA9",
        "colab": {}
      },
      "source": [
        "#decoder_inputs 의 인풋모듈은 무엇이며 이걸 lstm에 넘겨주면 어떻게 받는건가?\n",
        "# Set up the decoder, using `encoder_states` as initial state.\n",
        "decoder_inputs = Input(shape=(None, num_decoder_tokens))\n",
        "# We set up our decoder to return full output sequences,\n",
        "# and to return internal states as well. We don't use the\n",
        "# return states in the training model, but we will use them in inference.\n",
        "decoder_lstm = LSTM(latent_dim, return_sequences=True, return_state=True)\n",
        "decoder_outputs, _, _ = decoder_lstm(decoder_inputs,\n",
        "                                     initial_state=encoder_states)\n",
        "decoder_dense = Dense(num_decoder_tokens, activation='softmax')\n",
        "decoder_outputs = decoder_dense(decoder_outputs)\n"
      ],
      "execution_count": 0,
      "outputs": []
    },
    {
      "cell_type": "code",
      "metadata": {
        "colab_type": "code",
        "id": "FYVl5n_Kwpov",
        "outputId": "b22e4fbf-a133-45fb-dfed-5e65f1b00a09",
        "colab": {
          "base_uri": "https://localhost:8080/",
          "height": 109
        }
      },
      "source": [
        "# Define the model that will turn\n",
        "# `encoder_input_data` & `decoder_input_data` into `decoder_target_data`\n",
        "model = Model([encoder_inputs, decoder_inputs], decoder_outputs)\n",
        "\n",
        "# Run training\n",
        "model.compile(optimizer='rmsprop', loss='categorical_crossentropy',\n",
        "              metrics=['accuracy'])"
      ],
      "execution_count": 0,
      "outputs": [
        {
          "output_type": "stream",
          "text": [
            "WARNING:tensorflow:From /usr/local/lib/python3.6/dist-packages/keras/optimizers.py:793: The name tf.train.Optimizer is deprecated. Please use tf.compat.v1.train.Optimizer instead.\n",
            "\n",
            "WARNING:tensorflow:From /usr/local/lib/python3.6/dist-packages/keras/backend/tensorflow_backend.py:3576: The name tf.log is deprecated. Please use tf.math.log instead.\n",
            "\n"
          ],
          "name": "stdout"
        }
      ]
    },
    {
      "cell_type": "code",
      "metadata": {
        "colab_type": "code",
        "id": "3ZuBk78rE6b8",
        "outputId": "66b94c3c-3184-44df-8810-24d5cdd48051",
        "colab": {
          "base_uri": "https://localhost:8080/",
          "height": 253
        }
      },
      "source": [
        "model.load_weights('drive/My Drive/tabditor/소스코드/기능4. 제목 추출/s2s_jasoseo.h5')"
      ],
      "execution_count": 0,
      "outputs": [
        {
          "output_type": "stream",
          "text": [
            "WARNING:tensorflow:From /usr/local/lib/python3.6/dist-packages/keras/backend/tensorflow_backend.py:190: The name tf.get_default_session is deprecated. Please use tf.compat.v1.get_default_session instead.\n",
            "\n",
            "WARNING:tensorflow:From /usr/local/lib/python3.6/dist-packages/keras/backend/tensorflow_backend.py:197: The name tf.ConfigProto is deprecated. Please use tf.compat.v1.ConfigProto instead.\n",
            "\n",
            "WARNING:tensorflow:From /usr/local/lib/python3.6/dist-packages/keras/backend/tensorflow_backend.py:203: The name tf.Session is deprecated. Please use tf.compat.v1.Session instead.\n",
            "\n",
            "WARNING:tensorflow:From /usr/local/lib/python3.6/dist-packages/keras/backend/tensorflow_backend.py:207: The name tf.global_variables is deprecated. Please use tf.compat.v1.global_variables instead.\n",
            "\n",
            "WARNING:tensorflow:From /usr/local/lib/python3.6/dist-packages/keras/backend/tensorflow_backend.py:216: The name tf.is_variable_initialized is deprecated. Please use tf.compat.v1.is_variable_initialized instead.\n",
            "\n",
            "WARNING:tensorflow:From /usr/local/lib/python3.6/dist-packages/keras/backend/tensorflow_backend.py:223: The name tf.variables_initializer is deprecated. Please use tf.compat.v1.variables_initializer instead.\n",
            "\n"
          ],
          "name": "stdout"
        }
      ]
    },
    {
      "cell_type": "code",
      "metadata": {
        "id": "7_YzQsKbN3K3",
        "colab_type": "code",
        "colab": {}
      },
      "source": [
        "from keras.callbacks import ModelCheckpoint \n",
        "cb = ModelCheckpoint('drive/My Drive/tabditor/소스코드/기능4. 제목 추출/s2s_jasoseo.h5', monitor='loss', verbose=1, save_best_only=True, save_weights_only=False, mode='auto', period=1)"
      ],
      "execution_count": 0,
      "outputs": []
    },
    {
      "cell_type": "code",
      "metadata": {
        "colab_type": "code",
        "id": "BFZmwc0Tw3R_",
        "colab": {}
      },
      "source": [
        "model.fit([encoder_input_data, decoder_input_data], decoder_target_data,\n",
        "          batch_size=batch_size,\n",
        "          epochs=200,\n",
        "          callbacks=[cb],\n",
        "          validation_split=0.2)\n",
        "# Save model\n"
      ],
      "execution_count": 0,
      "outputs": []
    },
    {
      "cell_type": "code",
      "metadata": {
        "colab_type": "code",
        "id": "CmCPKr305CZp",
        "colab": {}
      },
      "source": [
        "model.save('drive/My Drive/summary_folder/s2s_news.h5')"
      ],
      "execution_count": 0,
      "outputs": []
    },
    {
      "cell_type": "code",
      "metadata": {
        "colab_type": "code",
        "id": "PChbdH_s9ne0",
        "colab": {}
      },
      "source": [
        "encoder_model = Model(encoder_inputs, encoder_states)\n",
        "\n",
        "decoder_state_input_h = Input(shape=(latent_dim,))\n",
        "decoder_state_input_c = Input(shape=(latent_dim,))\n",
        "decoder_states_inputs = [decoder_state_input_h, decoder_state_input_c]\n",
        "decoder_outputs, state_h, state_c = decoder_lstm(\n",
        "    decoder_inputs, initial_state=decoder_states_inputs)\n",
        "decoder_states = [state_h, state_c]\n",
        "decoder_outputs = decoder_dense(decoder_outputs)\n",
        "decoder_model = Model(\n",
        "    [decoder_inputs] + decoder_states_inputs,\n",
        "    [decoder_outputs] + decoder_states)"
      ],
      "execution_count": 0,
      "outputs": []
    },
    {
      "cell_type": "code",
      "metadata": {
        "colab_type": "code",
        "id": "c9OgvFj_9vQN",
        "colab": {}
      },
      "source": [
        "# Reverse-lookup token index to decode sequences back to\n",
        "# something readable.\n",
        "reverse_input_char_index = dict(\n",
        "    (i, char) for char, i in input_token_index.items())\n",
        "reverse_target_char_index = dict(\n",
        "    (i, char) for char, i in target_token_index.items())\n"
      ],
      "execution_count": 0,
      "outputs": []
    },
    {
      "cell_type": "code",
      "metadata": {
        "colab_type": "code",
        "id": "_F7irRro9xET",
        "colab": {}
      },
      "source": [
        "def decode_sequence(input_seq):\n",
        "    # Encode the input as state vectors.\n",
        "    states_value = encoder_model.predict(input_seq)\n",
        "\n",
        "    # Generate empty target sequence of length 1.\n",
        "    target_seq = np.zeros((1, 1, num_decoder_tokens))\n",
        "    # Populate the first character of target sequence with the start character.\n",
        "    target_seq[0, 0, target_token_index['\\t']] = 1.\n",
        "\n",
        "    # Sampling loop for a batch of sequences\n",
        "    # (to simplify, here we assume a batch of size 1).\n",
        "    stop_condition = False\n",
        "    decoded_sentence = ''\n",
        "    while not stop_condition:\n",
        "        output_tokens, h, c = decoder_model.predict(\n",
        "            [target_seq] + states_value)\n",
        "\n",
        "        # Sample a token\n",
        "        sampled_token_index = np.argmax(output_tokens[0, -1, :])\n",
        "        sampled_char = reverse_target_char_index[sampled_token_index]\n",
        "        decoded_sentence += sampled_char\n",
        "\n",
        "        # Exit condition: either hit max length\n",
        "        # or find stop character.\n",
        "        if (sampled_char == '\\n' or\n",
        "           len(decoded_sentence) > max_decoder_seq_length):\n",
        "            stop_condition = True\n",
        "\n",
        "        # Update the target sequence (of length 1).\n",
        "        target_seq = np.zeros((1, 1, num_decoder_tokens))\n",
        "        target_seq[0, 0, sampled_token_index] = 1.\n",
        "\n",
        "        # Update states\n",
        "        states_value = [h, c]\n",
        "\n",
        "    return decoded_sentence"
      ],
      "execution_count": 0,
      "outputs": []
    },
    {
      "cell_type": "code",
      "metadata": {
        "id": "hvqVQ2vL7fik",
        "colab_type": "code",
        "outputId": "95b24ea2-9d48-4b7e-8750-a10be909d365",
        "colab": {
          "base_uri": "https://localhost:8080/",
          "height": 35
        }
      },
      "source": [
        "target_text"
      ],
      "execution_count": 0,
      "outputs": [
        {
          "output_type": "execute_result",
          "data": {
            "text/plain": [
              "'\\tsey.kyey.ka saymnay.nun ki.ep saymphyo'"
            ]
          },
          "metadata": {
            "tags": []
          },
          "execution_count": 36
        }
      ]
    },
    {
      "cell_type": "code",
      "metadata": {
        "colab_type": "code",
        "id": "BucAcqVH92oU",
        "outputId": "8085aee5-ef24-4254-c79d-859332dcec46",
        "colab": {
          "base_uri": "https://localhost:8080/",
          "height": 1000
        }
      },
      "source": [
        "for seq_index in range(50):\n",
        "    # Take one sequence (part of the training set)\n",
        "    # for trying out decoding.\n",
        "    input_seq = encoder_input_data[seq_index: seq_index + 1]\n",
        "    decoded_sentence = decode_sequence(input_seq)\n",
        "    print('-')\n",
        "    print('Input sentence:', hangulize(input_texts[seq_index],toEncoding='utf-8'))\n",
        "    print('Decoded sentence:', hangulize(decoded_sentence,toEncoding='utf-8'))\n",
        "    print('answer sentence:', hangulize(data['title'][seq_index],toEncoding='utf-8'))"
      ],
      "execution_count": 0,
      "outputs": [
        {
          "output_type": "stream",
          "text": [
            "-\n",
            "Input sentence: 대학 3학년 때 교내 배구 서포터즈 활동을 했습니다 타과생들에겐 생소할 수 있는 대학 간 스포츠 경기가 활성화 될 수 있도록 학교 내 유동인구가 많은 지역에서 간식을 나눠주며 경기일정을 홍보하였습니다 경기장을 방문하는 관객을 대상으로 다양한 행사를 실시하여 관객유치를 위해 노력하였습니다 그 결과 연속 3경기 만원 관중을 달성하는 성과를 거두었습니다아쉬운점 1\n",
            "Decoded sentence: 경쟁                                                                                                                                                                          \n",
            "answer sentence: \"교내 스포츠 경기 활성화를 위한 노력\"\n",
            "\n",
            "\n",
            "-\n",
            "Input sentence: 중학교 정규수업을 들으며 스포츠를 처음 접했으며 모든 종목 수행평가에서 만점을 받으며 스포츠관련 학과에 진학하는 목표를 세웠습니다 대학 입학 후 테니스 동아리 배구동아리를 통해 대회에 참가하였고 플로어볼과 크리켓 같은 생소한 스포츠를 접하여 스포츠에 대한 다양한 지식을 얻을 수 있었습니다좋은점 1 글자수 49자74byt어\n",
            "Decoded sentence: 가장 큰 실패와 성공을 가져온 호주 워킹홀리데이                                                                                                           \n",
            "answer sentence: \"스포츠를 향한 오랜 관심\"\n",
            "\n",
            "\n",
            "-\n",
            "Input sentence: 2년 전 카페의 관리자로 근무하며 과발주로 인해 매장의 매출 손실을 막은 경험이 있습니다 승진한 지 얼마 되지 않은 수퍼바이저의 업무 미숙으로 인해 이틀에 1개 정도 팔리는 샐러드 상품 3개가 매장에 입고된 적이 있었습니다 유통기한을 3일로 아주 짧아 팔리지 않은 제품은 모두 폐기 처리하여 본사에 보고해야 했고 약 2만 원의 손실이 예상되는 상황이었습니다 주변의 매출이 높은 매장 열 군데에 전화하여 상황을 설명하였고 직접 매장을 방문하여 제품 이관처리를 하였습니다 도움을 준 매장에 부족한 소모품을 제공하여 최대한 도움을 주려 하였습니다 다행히 매출에 큰 영향 없이 문제를 해결할 수 있었습니다돌발상황에 당황하지 않고 책임감을 통해 해결한 경험을 통해 업무를 수행하며 겪을 수 있는 다양한 상황에 침착하게 대응하며 해결해 나갈 수 있을 것입니다아쉬운점 1 글자수 468자795byt어\n",
            "Decoded sentence: 가장 큰 실패와 성공을 가져온 호주 워킹홀리데이                                                                                                           \n",
            "answer sentence: \"매출 손실을 막기 위한 관리자가 지녀야 할 책임감\"\n",
            "\n",
            "\n",
            "-\n",
            "<class 'dict'> {'vowel': 'o'}\n",
            "<class 'dict'> {'initial': '', 'vowel': 'o'}\n",
            "<class 'dict'> {'initial': '', 'vowel': 'o'}\n",
            "<class 'dict'> {'initial': '', 'vowel': 'o'}\n",
            "<class 'dict'> {'initial': '', 'vowel': 'o'}\n",
            "<class 'dict'> {'initial': '', 'vowel': 'o'}\n",
            "<class 'dict'> {'initial': '', 'vowel': 'o'}\n",
            "<class 'dict'> {'initial': '', 'vowel': 'o'}\n",
            "Input sentence: 새로운 지식을 수용하는 데 탁월한 학습능력을 갖추고 있습니다대학 2학년 때 가상 스포츠 행사를 통한 현실적인 기업의 마케팅 방법과 예산을 수립하는 과제를 수행했습니다 오오오오오오오오에 근무하셨던 교수님을 직접 찾아뵈어 얻은 정보뿐만 아니라 행사의 홍보를 위해 서울 지하철 역사 내 광고업체에 직접 전화하여 광고 비용을 알아보고 예산을 줄이기 위해 소셜미디어를 이용하는 방법을 제시하였습니다 다양한 홍보방식까지 이용하여 적절한 예산을 편성한 것에 대해 긍정적인 평가를 받았습니다아쉬운점 1\n",
            "Decoded sentence: 가장 큰 실패와 성공을 가져온 호주 워킹홀리데이                                                                                                           \n",
            "answer sentence: \"탁월한 지식 수용 능력과 응용력\"\n",
            "\n",
            "\n",
            "-\n",
            "Input sentence: 반면 현재에 집중하기 보다 앞선 걱정을 많이 하는 경향이 있습니다 특히 시험을 준비하는 과정에서 합격 여부에 많은 걱정을 하여 스트레스를 과다하게 받는 경우가 많았습니다 불필요한 생각을 줄이고 현재 해야 하는 일에 집중할 수 있도록 체계적으로 계획을 세워 과제를 수행하려 합니다아쉬운점 2 글자수 48자828byt어\n",
            "Decoded sentence: 끊임없이 노력하는 앵무새                                                                                                                                           \n",
            "answer sentence: \"체계적인 계획을 통한 걱정 줄이기\"\n",
            "\n",
            "\n",
            "-\n",
            "<class 'dict'> {'vowel': 'o'}\n",
            "<class 'dict'> {'initial': '', 'vowel': 'o'}\n",
            "<class 'dict'> {'initial': '', 'vowel': 'o'}\n",
            "<class 'dict'> {'initial': '', 'vowel': 'o'}\n",
            "<class 'dict'> {'initial': '', 'vowel': 'o'}\n",
            "<class 'dict'> {'initial': '', 'vowel': 'o'}\n",
            "<class 'dict'> {'initial': '', 'vowel': 'o'}\n",
            "<class 'dict'> {'initial': '', 'vowel': 'o'}\n",
            "Input sentence: 2년전 오오오오오오오오에서 시행하는 초등학교를 직접 컨택하여 토요일 오전 저소득층 학생들에게 특별수업을 진행하여 다양한 수업기회를 얻을 수 있게 해주는 봉사활동을 하였습니다 아쉬운점 1저는 예산과 결산을 담당하는 총무 역할과 부팀장 역할을 겸임하였습니다 학교 컨택부터 수업 기획과 예산안 작성 물품 구매 사전탐방 등 실질적 활동을 위한 사전활동이 매우 많아 이로 인해 8명중 3명이 중도하차하는 일이 발생하였습니다 기존에 분배한 역할이 붕 뜨고 이대로는 학생들에게도 실례이니 남은 5명중 다수가 해체하자는 의견을 냈습니다 이미 학교 컨택을 완료한 상황에 우리를 기다리며 즐거운 토요일을 상상하고 있을 학생들과의 약속을 깰 수 없었습니다 남은 팀원들을 설득하기 위해 유일하게 저와 뜻이 맞았던 팀장과 해결책을 강구하였고 결국 답은 소통이라고 생각하였습니다 팀원들을 일일이 만나 학생들과의 약속이라는 점 어렵겠지만 5명이 똘똘 뭉쳐 팀워크를 발휘한다면 우리 자신과 아이들에게 큰 의미가 될 수 있는 경험이 될 것이라며 설득을 하였습니다 다행히 팀원들이 설득에 공감해주었고 중도에 나간 3명의 역할을 잘 분배하여 사전활동을 재개하였습니다 위기는 곧 기회라는 말처럼 우리들에게 이 경험은 결속력을 다지는 계기가 되었고 합심하여 시간을 쪼개가며 기획 회의를 몇 차례 진행하였습니다 결국 학생들에게 6주간 요리프로그램을 통해 즐거운 토요일을 보내게 해줄 수 있었고 저는 부팀장과 총무 구매 역할을 잘 담당하며 맡은 임무를 잘 완수할 수 있었습니다아쉬운점 2인생을 살다 보면 혼자의 힘으로는 해결할 수 없는 상황이 발생하곤 합니다 언제든 이런 상황이 발생하여도 당황하지 않고 사람들과의 소통을 통해 팀워크를 최대한 발휘하여 문제를 해결해나가겠습니다                        글자수 886자1536byt어\n",
            "Decoded sentence: 성공을 위한 자극제                                                                                                                                                        \n",
            "answer sentence: \"소통과 공감은 만사형통\"\n",
            "\n",
            "\n",
            "-\n",
            "Input sentence: 6개월간 소규모 비영리의료단체에서 재무팀장으로 단체의 재정을 관리하였습니다 자금관리가 팀장에게 주로 일임되어 있어서 팀원일 당시에는 단체의 재정이 잘 관리되고 있다고 생각하였습니다 하지만 팀장에 임명된 후 자금이 비효율적으로 운영되고 있다는 것을 알게 되었습니다 비영리단체이니만큼 각종 기업 및 개인의 후원금을 제외하고는 수익 사업이 제대로 이루어져있지 않았기 때문에 비용을 최소화하는 것이 필요하였습니다 이번 기회에 체계를 확실히 세워야지 향후 단체가 지속적으로 존재할 수 있을 것 같다고 생각했습니다 기존에는 지출 시에 특별한 목적 확인 없이 송금하거나 영수증 확인 없이 송금하는 등 프로세스가 정비되어 있지 않았었습니다 인턴을 하며 직접 보고 배운 개인지출결의서 송금요청서를 이용한 지출 프로세스를 적용하기 위해 각 부서에 사전에 계획서를 제출한 후에만 승인 후에 자금이 지출 되도록 프로세스를 확립하였습니다 새로운 프로세스의 도입은 단원들뿐만 아니라 팀장인 저 자신에게도 확인과 승인 절차로 인해 번거로움을 안겨주었고 일각에서는 봉사를 하러 왔는데 왜 굳이 회사처럼 해야되냐는 원성을 들었습니다 하지만 그들에게 어찌되었든 우리 단체가 ㄴ올아는 사업자 등록번호를 가진 단체이며 회사라는 생각을 가지고 책임감 있게 돈을 써야 후원자들도 믿고 후원해줄 것이라는 것을 설명하였습니다 그렇게 단원들을 설득하여 프로세스가 자리잡았고 효율적으로 자금을 관리할 수 있었습니다 이러한 경험을 통해 한 단체의 재정을 책임진다는 것이 얼마나 책임감이 필요하며 회원 및 후원자 기업의 경우 구성원과 고객들에게 재정 상황을 제대로 보여주는 것이 중요하다는 것을 느꼈습니다 ㅅ 입사 후에도 새로운 아이디어를 통해 문제를 해결할 수 있는 방법을 고민하고 의견을 개진하여 실천하는 인재가 되겠습니다좋은점 1 글자수 919자164byt어\n",
            "Decoded sentence: 상대방의 말을 때 수 있는 고만을 달성하다                                                                                                                      \n",
            "answer sentence: \"단체의 재정을 개선하다\"\n",
            "\n",
            "\n",
            "-\n",
            "<class 'dict'> {'vowel': 'o'}\n",
            "<class 'dict'> {'initial': '', 'vowel': 'o'}\n",
            "<class 'dict'> {'initial': '', 'vowel': 'o'}\n",
            "<class 'dict'> {'vowel': 'o'}\n",
            "<class 'dict'> {'initial': '', 'vowel': 'o'}\n",
            "<class 'dict'> {'initial': '', 'vowel': 'o'}\n",
            "Input sentence: 초중고 시절 적극적이고 활발하여 다양한 친구들과도 잘 어울리던 저는 길어진 대입 수험생활로 자존감이 낮고 소극적인 청년으로 변했습니다 대학 신입생 시절에도 남들과 잘 어울리지 않았고 혼자 모든 것을 하려고 하였습니다 제대 후 이러한 성격에서 벗어나기 위해 설fㅂ안닝 설f앚딩이라는 모토의 오오오오 봉사단 오오오올을 시작했습니다 이 봉사단은 대학생들이 팀별로 봉사 및 예산 기획부터 실행까지 자발적으로 하는 차별화된 활동이었습니다 설f라는 모토는 능동적인 인간으로의 변화를 원했던 저에게 전환점이라는 생각을 가지게 하였습니다 아쉬운점 1봉사를 기획한다는 것이 쉬운 일은 아니었습니다 하지만 소극적인 성격을 버리고 여러 가지 아이디어도 내고 예산관리 업무를 자청하여 도맡아하는 등 열정을 가지고 적극적으로 참여하였습니다 대학 입학 후 처음으로 어딘가에 속해서 의논하고 활동하고 커뮤니케이션하고 친목을 다지면서 이제 나는 혼자가 아니야라는 생각을 할 수 있었습니다 이러한 소속감은 저에게 큰 동기부여가 되었고 이에 매 월 바쁜 일정 속에서도 성실하고 열정적으로 팀내에서 맡은 저의 임무를 다 하여 8개월의 활동 후 최우수 팀과 최우수 단원으로 선정될 수 있었습니다 아쉬운점 28개월간의 활동은 저에게 큰 성취감 뿐만 아니라 대학 입시로 인해 수동적이었던 가치관에서 벗어나 스스로에 대한 가치를 높이고 소속감이 얼마나 큰 동기부여를 줄 수 있는지를 생각해 보는 계기를 마련해 주기도 하였습니다 항상 모든 일이 잘 되는 것은 아닙니다 하지만 저는 그때마다 그것을 극복하기 위해 내가 속한 조직과 함께 고민하고 함께 견뎌 헤쳐나갈 것입니다 입사 후에도 위기를 맞이하는 순간이 있을 수 있겠지만 그럴때마다 조직원으로써 우리 조직이 어떻게 해야 올바른 방향으로 나아갈 수 있을까를 항상 고민하는 인재로 성장해나가겠습니다 글자수 943자1611byt어\n",
            "Decoded sentence: 인생의 전환점                                                                                                                                                             \n",
            "answer sentence: \"인생의 전환점\"\n",
            "\n",
            "\n",
            "-\n",
            "<class 'dict'> {'vowel': 'a'}\n",
            "Input sentence: 도시공학에서 스마트시티를 공부하며 자율주행차에 관심이 생겼습니다 미래 교통 효율화의 방향성은 기존의 차량 수요를 대중교통으로 전환하려는 노력보다는 자율주행차와 커넥티비티에 있다는 생각을 하게 되었습니다 자동차는 단순한 이동성 이상의 가치를 가짐을 알게 되었고 이는 모빌리티 기술 전반에 관한 관심으로 이어졌습니다 모빌리티 기술 전체를 포괄적으로 이해하는 능력을 갖추고 싶어 산업공학을 복수 전공했습니다 전공 관련성이 높지 않은 새로운 학문에 도전하는 것이 지칠 때마다 이 과정이 기술 분야에 시야를 넓혀줄 것이라 믿으며 꾸준히 공부를 해 나갔고 그 학기 모든 산업공학 전공 수업에서 아을 받았습니다아쉬운점 1\n",
            "Decoded sentence: 사람의 마음을 사로잡는 아이디어 뱅크                                                                                                                                   \n",
            "answer sentence: \"도시공학에서 산업공학까지\"\n",
            "\n",
            "\n",
            "-\n",
            "Input sentence: 4학년을 마치고 글로벌 역량을 쌓고 싶어 해외 인턴십에 도전했습니다 해외 경험이 전혀 없었고 공대생으로서 영어도 자주 접하지 않았던 터라 무모한 도전으로 보이기도 했습니다 그러나 해외 인턴십을 마치고 자유롭게 영어로 업무가 가능한 나의 모습을 믿으며 영어 면접 전 매일 회화 연습을 했습니다 미국 현지 인턴 구직 과정에서는 일일이 회사들을 조사하고 메일을 보내고 직접 전화를 걸어 인턴 면접을 볼 기회를 줄 수 있는지 물었습니다 인턴 선발 공고를 올리지도 않은 회사들에 영어로 전화를 걸어 면접 기회를 요청하는 과정이 매번 두려웠지만 글로벌 역량을 갖춘 인재가 된 나라는 결과를 믿고 꾸준히 전화를 돌렸습니다 그 결과 다섯 군데 회사와 면접을 보았고 그중 세 곳에서 최종 합격 연락을 받아 엔지니어 인턴으로 일할 수 있었습니다아쉬운점 2 글자수 16자1734byt어\n",
            "Decoded sentence: 전공지식 함양                                                                                                                                                              \n",
            "answer sentence: \"한국 토박이의 해외인턴 도전\"\n",
            "\n",
            "\n",
            "-\n",
            "Input sentence: 1년간 미국에 살면서 한국에서와는 다르게 운전을 할 일이 많았습니다 운전이 익숙하지 않았던 저에게 첨단 운전자 보조 시스템이 큰 도움이 되었습니다 특히 차선 이탈 방지와 전방 충돌 경보 시스템 덕분에 운전할 때의 거리감을 빠르게 익힐 수 있었습니다 1시간이 넘는 장거리 운전에는 크루즈 컨트롤이 유용했습니다 그러나 자동 긴급 제동 기능은 종종 혼란을 야기 했습니다 자동 제동이 되고 있을 때 어느 정도의 강도로 제동되고 있는지 내가 언제 얼마나 브레이크를 밟아야 하는지 가늠하기가 어려웠기 때문입니다 이후 자율주행 기술의 역기능을 사전에 예상하고 보완하는 것이 중요하다는 생각을 하게 되었습니다 운전자가 자율주행 기술에 너무 의존하여 이후 동일한 기술이 장착되지 않은 차량을 운전할 때 혼란이 생기는 경우 또는 첨단 운전자 보조 시스템 기술에 대해 제대로 숙지하지 않고 이를 이용하는 경우에는 큰 위험을 야기할 수 있다고 생각합니다 따라서 안전성 구현에 가장 중점을 둬야 한다고 생각합니다아쉬운점 1미래 교통의 핵심 커넥티비티자동차는 단순한 이동수단을 넘어선 하나의 생활공간이 되었습니다 이 공간에서의 경험을 발전시킬 핵심 기술이 커넥티비티라고 생각합니다 차량 내외부 연결성의 향상과 각종 정보의 실시간 공유는 차량 안팎에서의 경험 자체를 변화시킬 것입니다 커넥티비티는 스마트시티의 교통 효율화와 고도 자율주행의 필수 조건이기도 합니다 한정된 자원하에서 커넥티비티 기술을 효율적으로 구현하기 위해서는 각 차량 주행 환경을 고려하는 것이 중요하다고 생각합니다 또한 글로벌 커넥티비티 기술을 선도하기 위해서는 고객의 니즈에 맞는 고객 맞춤형 기술을 개발할 필요가 있습니다 커넥티비티는 미래 교통 발달에 가장 크게 이바지할 기술이라고 생각합니다 현대자동차에서 차량 주행 환경과 고객의 니즈에 가장 적합한 차량을 개발하는 ㅂ이 되겠습니다아쉬운점 2 글자수 11자1732byt어\n",
            "Decoded sentence: 작은 기업 아이트했았는 부험                                                                                                                                            \n",
            "answer sentence: \"자율주행과 안전성\"\n",
            "\n",
            "\n",
            "-\n",
            "Input sentence: 꾸준한 토론 학회 활동과 토론 수업을 통해 다른 사람들과 소통하는 능력을 길렀습니다 시사 토론 학회에서 매주 특정 시사 이슈를 정하여 관련 기사를 분석하고 이를 기초자료 삼아 토론을 하였습니다 이를 통해 나의 주장을 다른 사람에게 전달하는 설득력을 길렀습니다 또한 매주 신문을 읽고 다른 학생들과 토론하는 수업을 통해 다양한 생각에 열린 자세를 갖췄습니다 ㅂ은 많은 사람과 소통하며 프로젝트를 책임지고 이끌어가는 업무를 수행하는 만큼 커뮤니케이션 능력이 중요하다고 생각합니다 위 활동으로 기른 커뮤니케이션 역량을 신차개발 프로젝트 전 과정을 이끄는 데 발휘하여 각 부서의 업무 효율성을 증대시키는 ㅂ이 되겠습니다아쉬운점 2\n",
            "Decoded sentence: 가장 큰 실패와 성공을 가져온 호주 워킹홀리데이                                                                                                           \n",
            "answer sentence: \"커뮤니케이션 능력\"\n",
            "\n",
            "\n",
            "-\n",
            "Input sentence: 매 학기 하나 이상의 설계 프로젝트 수업을 들었습니다 한 학기에 걸쳐 자료 조사 대상지 분석 개발 계획 수립 설계 발표 보고서 작성으로 이어지는 일련의 과정을 거치며 일정관리 역량을 길렀습니다 공과대학생과  타 단과대학생이 팀을 이루어 창업 아이템을 개발하는 강좌를 수강하면서는 아이디어 회의부터 프로토타입을 만들기까지의 과정을 거쳤습니다 예산이 한정된 조건에서 최선의 결과물을 위해 자원을 효율적으로 사용하는 연습을 해보았고 우선순위 설정의 중요성을 알았습니다 현대자동차에서 초기 기획단계부터 양산까지 다양한 일정 관리와 우선순위 설정 능력을 발휘하여 최종적 개발 목표를 달성하는 ㅂ이 되겠습니다아쉬운점 3 글자수 971자1676byt어\n",
            "Decoded sentence: 사람을 편이 사람을 말합습니다                                                                                                                                        \n",
            "answer sentence: \"일정관리와 우선순위 설정\"\n",
            "\n",
            "\n",
            "-\n",
            "Input sentence: 2년 동안 봉사했던 단체는 설립된 지 3년이 경과했지만 후원자가 매년 감소하는 문제가 있었습니다 웹사이트에 글만 올리는 수동적인 홍보방법이 내적 원인이라고 생각했습니다 가까운 기업과 학교 각 한 곳을 먼저 방문해 봉사단체의 정확한 인지도와 반응을 분석했습니다 뜻밖에도 많은 곳이 봉사단체가 존재함을 몰랐고 213년 8월 5명의 팀원들과 뜻을 모아 자진고생 홍보 프로젝트를 결의했습니다아쉬운점 1뜨거운 여름 날씨 아래 연속적인 문전박대로 팀원들 모두지쳐있었지만 뜻하는 바를 이루기 위해 임무에 집중했습니다 특히 좋은 후원단체를 알려줘서 감사하다며 큰 관심을 가져 주실 때는 분위기가 한껏 고취되었습니다 모두의 협동심으로 3개월 동안 의기투합한 결과 목표했던 5곳 보다 많은 8곳에서 후원을 약속받을 수 있었습니다 홍보 과정에서 직접 부딪쳤지만 끝까지 현장을 파악했던 뚜렷한 목적의식으로 고객의 강한 다리가 되어 효과적인 개선방안을 꾸준히 모색하는 열정적인 인원이 되겠습니다아쉬운점 2 글자수 524자93byt어\n",
            "Decoded sentence: 국내외 비슷한 사례를 찾아보고 회소난 펼정                                                                                                                  \n",
            "answer sentence: \"때로는 펜보다 다리가 강하다\"\n",
            "\n",
            "\n",
            "-\n",
            "Input sentence: 대학시절 처음 처음 물류에 관심을 가지게 되었고 포워딩 업무를 수행하면서 물류업무가 저의 적성에 적합하다고 확신하게 되었습니다 다양한 화주들과의 커뮤니케이션 항공스케줄 등의 변동 창고보관 등 여러 가지 변수들 속에서 업무를 진행하는 것에 어려움을 느낄 때도 있었지만 무엇보다도 어려움을 극복하기 위해 책임감을 가지고 업무에 임하여 좋은 결과를 성취했을 때의 보람이 훨씬 컸고 계속 물류 관련업에 종사하고 싶다는 생각을 가지게 되었습니다                         글자수 28자483byt어\n",
            "Decoded sentence: 경쟁                                                                                                                                                                          \n",
            "answer sentence: \"어려움 속에서 큰 보람을 느낄 수 있는 물류\"\n",
            "\n",
            "\n",
            "-\n",
            "Input sentence: 입사 후 슈프리마 영업지원 전문가가 되는 것이 목표입니다 이를 위해 단계적으로 목표를 수립하여 실행해 나갈 것입니다 먼저 입사 직후에는 업무에 빠르게 적응하기 위해 선배님들과 동기들에게 적극적으로 다가가는 사원이 되겠습니다 또한 실무에 빠르게 투입될 수 있도록 모든 것에 배우는 자세로 임하겠습니다 입사 후 5년에는 그 동안의 배움과 성실함을 바탕으로 업무를 수행하겠습니다 또한 대내외 협력부서들과의 원활한 커뮤니케이션으로 업무 뿐 만 아니라 다른 부분들에 대한 지식도 쌓아 시너지 효과를 낼 수 있도록 하겠습니다입사 후 1년 슈프리마 영업지원 스페셜리스트가 되는 것이 저의 목표입니다 이러한 저의 목표를 되새긴다면 입사 후 겪는 어려움도 이겨낼 수 있을 것이라 생각합니다 1년 후에는 우리나라뿐만 아니라 글로벌 무대에서 활약하는 인재가 되고 싶습니다 이를 위해 입사 후에도 꾸준하게 영어 실력을 향상시킬 뿐만 아니라 제2외국어도 배울 것입니다 또한 리더로서 부서를 이끌며 그 동안 쌓았던 지식과 노하우를 회사 식구들과 아낌없이 나눌 것입니다                         글자수 579자988byt어\n",
            "Decoded sentence: 손재로 대안짐업스 이끄는 적인과 마케팅                                                                                                                       \n",
            "answer sentence: \"슈프리마 영업지원 스페셜리스트\"\n",
            "\n",
            "\n",
            "-\n",
            "<class 'dict'> {'initial': '', 'vowel': 'e'}\n",
            "<class 'dict'> {'vowel': 'u'}\n",
            "Input sentence: 평소 꾸준함과 성실함을 강조하시던 부모님은 제가아침형 인간이 되기를 바라셨습니다 아버지께서는 저에게 아침운동을 제안하셨고 저는 초등학교 5학년부터 고등학교 진학 전 까지 매일 아침 운동을 하였습니다 이를 통해 저는 성실성과 소통력을 키울 수 있었습니다저는 루틴이 가진 강력한 힘을 알고 이용할 줄 압니다 루틴이란 규칙적으로하는 일의 통상적인 순서와 방법을 뜻합니다 유학을 처음 시작했절 영어는 저에게 콤플렉스였습니다 한국에서 대입을 준비하며 정말 많은 시간을 영어에 쏟았지만 성적은 생각만큼 나오지 않았고 외국인을 만나면 말한마디 하지 못하였습니다 물론 어학원을 다니며 조금씩 실력이 느는 것을 느꼇지만 대학에 입학하기에는한참 부족한 실력이었습니다 대학 입학을 6개월 앞둔 저는한참 부족한 영어실력을 올리기 위하여 아침 6시에 일어나 하루에 한편씩 에세이를 작성하고 학원에 선생님을 찾아가 첨삭받았습니다 처음 에세이 한편을 쓰고첨삭을 받을 땐 에세이를 썻다는 보람보단 에세이 위의 수많은 빨간줄을 보며 좌절을 더 느꼈습니다 하지만 저는 하루도 빼놓지 않고 에세이를 써 나갔습니다 가끔은정말 쓸 내용도 없고 써도 줄어들지 않는 빨간줄을 보며 다 그만두고싶었지만 포기하지 않았습니다 그렇게 저는 6개월을 하루도 빼놓지 않고 에세이를 써냈습니다 어학원 마지막 수업이었습니다 평소처럼 에세이를 선생님께 첨삭받으러 가는데 어학웒어아d q으아r더r에서 절 불렀습니다 담당자는 제 에세이를보며 많은 감동을 받았다고 하였고 이것을 학원 책자에 실을 수 있는지 동의를 구해 왔습니다 저는 흔쾌히 수락하였고 제 에세이는 저의 인터뷰와 함께 학원 책자에 실렸습니다 또한 이후 학업을 수행하며 글쓰기 능력은 저에게 큰 강점이 되었습니다 아쉬운점 1이렇게 루틴의 강력함을 느낀 저는 지금도 매일 아침 6시에 일어나 목표한 것을 준비합니다                        글자수 96자1656byt어\n",
            "Decoded sentence: 두 가지의 능력으로 만족인 관심                                                                                                                                       \n",
            "answer sentence: \"아버지에게서 배운 성실성과 소통 능력\"\n",
            "\n",
            "\n",
            "-\n",
            "<class 'dict'> {'initial': '', 'vowel': 'i'}\n",
            "Input sentence: 사람들의 건강한 삶과 수명연장의 꿈을 이루어내기 위하여 연구 개발을 통해 우수한 의약품을 개발하고 생산하는 것도 중요하지만 효율적이고 안전한 의약품의 재고관리 및 유통 또한 매우 중요한 사업이라고생각합니다 저는 제약영업의 전문가로서 국민보건 증진에 기여할 수 있는 전문가가 되는 것을 목표로 하고있으며 이를 위해 입사 후 다음과 같은 노력을 기울이겠습니다첫째 전문가가 되기 위해 끊임없이 노력하겠습니다 우선 입사 후 유영제약에서 생산하는 제품에 대해 빠르게 숙지하고회사의 업무 프로세스에 대해 완벽하게 적응해 나가겠습니다 그리고 자사 제품에 대한 경쟁사 현황을 포함한 의약품 시장에 대한 전반적인 이해를 위해 현장에 집중하겠습니다 이를 위해 관련 서적을 구독하고 공부하며궁금한 것을 선배님들께 질문하고 가르쳐주신것을 숙지하여 제 것으로 만들겠습니다아쉬운점 1둘째 소통역량을 발휘하겠습니다 올바른 소통을 위해서 가장 중요한 것은 경청의 자세라고 생각합니다 성공적인 제약영업을 위해서 고객들의 목소리에 귀 기울이며 그들의니즈를 정확히 파악하는 능력을 발휘하고 해결해줄 수 있는 실력을 갖추기 위해 노력해 나가겠습니다 고객과의 소통 뿐만 아니라 회사와의 소통또한 소홀히하지 않겠습니다 회사가 저에게 요구하는 바를 정확히 파악하고고객과 회사 사이의 올바른 조율을 하겠습니다 이를 통해 회사와 고객 제 자신의 상생을 이루겠습니다셋째 고객과의 관계를 만들어 나가기 위해 지속적인 관심을 갖겠습니다 고객관계 관리를 위해 필요한 것은 고객에 대한관심과 이해입니다아쉬운점 2 고객의 접점에서 아스텔라스제약의 긍정적인 이미지를 지속할 수 있도록 노력하겠습니다 기업의 발전과 사회적 공헌을 동시에 이뤄낼 수 있는 분야의 ㅅ엊이알잇ㄷ오 성장해 나가기 위해 달리고 또 달려 나가겠습니다아쉬운점 3 글자수 929자1612byt어\n",
            "Decoded sentence: 스마트팩트로 보아들일 수 있는 도전장 같이 해워 생할 수 있습니다                                                                                    \n",
            "answer sentence: \"전문성과 소통 역량으로 업계 최고 전문가로 거듭나다\"\n",
            "\n",
            "\n",
            "-\n",
            "Input sentence: 입사 후 케이피에프 영업지원 전문가가 되는 것이 목표입니다 이를 위해 단계적으로 목표를 수립하여 실행해 나갈 것입니다 먼저 입사 직후에는 업무에 빠르게 적응하기 위해 선배님들과 동기들에게 적극적으로 다가가는 사원이 되겠습니다 또한 실무에 빠르게 투입될 수 있도록 모든 것에 배우는 자세로 임하겠습니다 입사 후 5년에는 그 동안의 배움과 성실함을 바탕으로 업무를 수행하겠습니다 또한 대내외 협력부서들과의 원활한 커뮤니케이션으로 업무 뿐 만 아니라 다른 부분들에 대한 지식도 쌓아 시너지 효과를 낼 수 있도록 하겠습니다입사 후 1년 케이피에프 영업지원 스페셜리스트가 되는 것이 저의 목표입니다 이러한 저의 목표를 되새긴다면 입사 후 겪는 어려움도 이겨낼 수 있을 것이라 생각합니다 1년 후에는 우리나라뿐만 아니라 글로벌 무대에서 활약하는 인재가 되고 싶습니다 이를 위해 입사 후에도 꾸준하게 영어 실력을 향상시킬 뿐만 아니라 제2외국어도 배울 것입니다 또한 리더로서 부서를 이끌며 그 동안 쌓았던 지식과 노하우를 회사 식구들과 아낌없이 나눌 것입니다                         글자수 58자992byt어\n",
            "Decoded sentence: 먼저 상사를 동아리 노력하는 것지                                                                                                                                    \n",
            "answer sentence: \"케이피에프 영업지원 스페셜리스트\"\n",
            "\n",
            "\n",
            "-\n",
            "Input sentence: 어렸을 때부터 이 행동을 왜 하는가라는 의문이 있었습니다 머지않아 저는 대충 해도 돼라는 생각을 가지게 했습니다 그로 인해 의지 없이 행동하여 시간을 낭비하고 성적이 떨어졌습니다 고등학교에 진학한 첫날 혼자 공부를 하는 친구를 보았고 나도 저 친구처럼 최선을 다한다면 누구보다 뛰어난 기술자가 될 수 있다고 생각했습니다 그래서 목표를 세워 최선을 다해 달성하려 하였습니다아쉬운점 1 저의 목표는 대한민국 최고의 기업 삼성에 입사하여 전기 명장이 되는 것이며 목표를 달성하기 위해 3년 동안 내신관리 자격증 취득 프로젝트 진행 커뮤니티 탐색 등의 노력을 했습니다 이를 통해 최고가 되기 위해 최선을 다하는 사람이 될 수 있었습니다아쉬운점 2 글자수 395자673byt어\n",
            "Decoded sentence: 꾸준한 관리를 위한 한국야관름                                                                                                                                  \n",
            "answer sentence: \"어떤 일을 시작하면 언제나 최선을 다하는 사람이 되자\"\n",
            "\n",
            "\n",
            "-\n",
            "Input sentence: 최고가 되려 하는 저에게 삼성전자는 매력적인 기업으로 생각되었습니다 삼성전자는 기술혁신을 주도하며 기술 초격차를 이어나가 저의 꿈을 이룰 수 있는 최고의 기업이기 때문입니다 또한 전 세계 어디를 가도 손쉽게 삼성전자의 제품들을 만날 수 있고 사람들의 생활에 많은 영향을 주고 있습니다 저는 삼성전자의 넘볼 수 없는 차이를 만드는 격인 초격차를 유지하기 위하여 저의 포부를 세 가지 목표를 세웠습니다아쉬운점 1첫째 입사 후 1년 동안 신입사원으로서 직무에 대한 이해도와 능률을 높여 일을 빠르게 처리하는 인재가 되기 위해 노력할 것입니다 둘째 직무에 익숙해질 때면 익숙함에 안주하지 않고 새로운 기술을 배우기 위해 업무와 학업을 병행할 것입니다 셋째 관리자가 되었을 때 미래를 위하여 후배들에게 기술을 전수하고 존경받을 수 있는 선배 모두에게 신뢰받을 수 있는 인재가 될 것입니다아쉬운점 2 글자수 461자791byt어\n",
            "Decoded sentence: 꿈의 신약                                                                                                                                                                    \n",
            "answer sentence: \"기술혁신과 기술 초격차\"\n",
            "\n",
            "\n",
            "-\n",
            "Input sentence: 어렸을 때부터 침대에 누워 있는 것을 좋아하였고 중요한 일이 아니면 움직이지를 않았습니다 그렇기에 항상 지출도 기록하지 않았습니다 하지만 어머니의 조언으로 가계부를 쓰게 되었고 자연스럽게 학습계획표에 매주 계획 세우고 매일 하루를 되새겨보며 부지런한 개미가 되었습니다아쉬운점 1 글자수 183자32byt어\n",
            "Decoded sentence: 꾸준한 관리를 위해 성공적인 책임                                                                                                                             \n",
            "answer sentence: \"영원할 것만 갔었던 게으름이 부지런함이 되기까지\"\n",
            "\n",
            "\n",
            "-\n",
            "Input sentence: 아버지께서는 저에게 시작을 했으면 최고가 되어야 해라고 하셨습니다 이러한 말씀은 저를 최고가 되기 위해 매사 노력하게 하였습니다 이를 통하여 저는 일을 진행하면 남들은 신경 쓰지 않는 작은 부분도 신경 썼고 친구들에게는 누구보다 꼼꼼하게 일을 하는 사람이 되었고 선생님에게는 항상 믿을 수 있는 학생이 되었습니다아쉬운점 1 글자수 2자341byt어\n",
            "Decoded sentence: 가장 큰 실패와 성공을 가져온 호주 워킹홀리데이                                                                                                           \n",
            "answer sentence: \"최고의 떡을 만드는 장인\"\n",
            "\n",
            "\n",
            "-\n",
            "Input sentence: 동아리 연합회 일원으로서 신입생 홍보와 관련하여 의사결정을 내렸던 적이 있습니다 주어진 예산으로 어떻게 홍보를 해야 효율적으로 신입생 홍보를 할 수 있는지를 회의하던 중 다수는 지난해와 동일하게 진행하는 것이 어떻겠냐는 의견을 냈습니다 여태까지 그렇게 해왔으니 올해에도 그렇게 하면 되지 않겠느냐는 것이었습니다그러나 저는 방식의 변화가 필요하다고 느꼈습니다 이미 신입생 홍보부스를 세워봤던 입장에서 논술 시험 기간과 수시 옫 기간에 했던 홍보는 많은 학생을 대상으로 하여 예산은 많이 들었으나 거의 아무런 효과가 없음을 이미 경험적으로 알고 있었기 때문입니다 따라서 다른 연합회원들에게 동아리 원들에게 동아리 가입 경로를 설문조사로 받고 그에 따라 홍보를 서너 차례만 진행하는 것이 좋겠다고 의견을 개진하였고 이가 받아들여져 설문조사를 하게 되었습니다좋은점 1설문조사 결과로는 지인의 소개로 들어온 경우가 압도적으로 많았으나 그 경우를 제외하고는 강의실 홍보 동아리 홍보부스 기간 신입생 전체 옫 순으로 가입 수가 많았습니다 논술 시험 기간과 수시 옫 기간에는 가입한 건수가 전혀 없었습니다 이에 따라 건의했던 대로 논술 시험 기간과 수시 옫 기간의 홍보는 아예 없애고 다른 홍보 기간에 예산과 힘을 더 쏟기로 하였습니다이 과정에서 논술 시험 기간과 수시 옫 기간에 가입하는 사람은 없더라도 홍보 효과가 있기는 했을 것이라며 음료와 팸플릿을 나누어주는 정도로만 홍보를 진행하자는 의견도 있었습니다 그러나 효과에 비해 너무 많은 예산이 투입될 것이라고 보아 기존에 결정했던 대로 두 기간의 홍보 폐지와 다른 기간의 홍보에의 집중으로 최종결정하였습니다 좋은점 2이를 통해 오랫동안 관례처럼 행해왔던 일이라 하더라도 한 번 더 그 효율성과 유효성에 대해 설문조사를 비롯한 자료를 수집을 통해 점검하고 그 결과를 바탕으로 더 효율적으로 방식으로 일을 진행하는 법을 배웠습니다                        글자수 19자1724byt어\n",
            "Decoded sentence: 설비 공박기를 가지다                                                                                                                                                      \n",
            "answer sentence: \"설문조사 결과를 바탕으로 한 동아리 홍보 방식의 변경\"\n",
            "\n",
            "\n",
            "-\n",
            "Input sentence: 청소년 이동 쉼터에서 자원봉사자로 일하며 기존보다 더 효과적인 방식을 도출해낸 경험이 있습니다 청소년 이동 쉼터의 주된 업무는 홍보 간단한 교육 위기 청소년 상담이 주 업무였는데 소수의 상담사와 다수의 자원봉사자가 두 팀으로 나뉘어 쉼터 외부에서 하는 홍보활동과 내부에서는 하는 교육 및 상담을 1시간씩 돌아가며 맡는 방식이었습니다이때 상담사 12명에 자원봉사자 35명이 한팀이 되어 활동했는데 문제는 때때로 위기 청소년을 상담할 인력이 없는 일이 발생한다는 것이었습니다 두어 번 청소년들이 상담을 받지 못하고 돌아가는 것을 목격하면서 이는 기관의 목적인 위기 청소년 보호에 부합하지 않는다고 생각했습니다 이에 따라 상담사분들께 조심스러운 태도로 의견을 개진하였습니다쉼터의 우선순위는 위기 청소년 상담에 있다고 생각하며 홍보 업무는 자원봉사자끼리도 충분히 할 수 있으므로 상담사분들은 쉼터 내부에서 교육 및 상담을 전담해주실 수 없는지 혹 그것이 어렵다면 상담 대기 중인 청소년이 있을 때 홍보 업무를 중단하고 상담을 하러 와주실 수는 없는지 건의하였습니다좋은점 1상담사분들은 자원봉사자를 인솔할 상담사는 필수적으로 배치되어야 하므로 홍보 업무에 자원봉사자만 내보낼 수는 없다며 상담사의 내부 업무 전담에 대해서는 거절하였으나 위기 청소년의 상담이 우선순위인 것에는 공감하여 대기 중인 청소년이 있을 때는 상담 업무를 우선시해 홍보를 접고 쉼터로 돌아오는 것에 대해서는 수용해주었습니다좋은점 2 합의안이 받아들여진 이후로는 이동 쉼터를 찾은 청소년들이 상담을 받기 위해 오래 기다리거나 상담을 받지 못한 채 떠나는 일이 없었습니다 이를 통해 문제가 발생하였을 때 기관의 목적을 고려하여 해결방안을 모색하고 이를 바탕으로 설득하여 더욱 기관의 목적에 부합하는 방향으로 문제를 해결하는 방법을 배울 수 있었습니다                        글자수 96자1651byt어\n",
            "Decoded sentence: 완벽학서 대의 체 배운                                                                                                                                                  \n",
            "answer sentence: \"기관의 목적 제고를 통한 문제 해결\"\n",
            "\n",
            "\n",
            "-\n",
            "Input sentence: 과외 아르바이트를 하던 중 학생의 정확한 실력을 파악하여 성적 향상을 끌어냈던 경험이 있습니다 과외를 시작했을 당시 학생 본인이 자신의 실력이 개념을 따라가기가 조금 버거운 정도라고 이야기하였기에 본인 학년 진도에 맞는 공부를 가르쳐주었습니다 그러나 막상 수업을 진행하며 이런저런 개념을 질문했을 때 거의 아무런 대답을 하지 못하는 점이나 기본적인 개념 문제도 수월하게 풀지 못하는 모습을 보며 학생이 기초 개념조차 전혀 숙지하지 못하고 있다는 것을 느꼈습니다 조금 더 정확한 실력파악을 위해 초등학교 과정부터 고등학교 과정까지의 문제가 고루 담긴 시험지를 준비해 테스트를 해보니 학생은 고등학생임에도 불구하고 초등학교 개념조차 잡혀있지 않은 상태였습니다 고등학교 진도를 나가며 쉽게 풀어 설명하는 것이 보편적인 과외였겠지만 아무리 쉽게 설명하여도 기초 없이 실력을 쌓는 것은 불가능하다는 판단으로 초등학교 개념부터 다시 쌓아가고자 마음먹었습니다 좋은점 1그러고는 학생과 학부모님에게 초등학교 과정부터 다시 공부하는 편이 좋겠다고 설득하였습니다 학생과 학부모 모두 처음에는 초등학교 과정부터 다시 한다는 것에 반감을 느끼며 제안을 거절하였으나 저는 기초 없이 실력을 쌓는 것에는 한계가 많으며 1년간 밀도 있게 공부한다면 금방 끝낼 수 있다고 차근차근히 설명하였습니다 이러한 사항을 학생과 학부모님 모두 공감하고 받아들여 초등학교 과정부터 다시 진행할 수 있었습니다이후 학기 중에는 주 3일을 방학 중에는 매일 과외를 하며 열심히 개념을 잡은 결과 1년 만에 최하위 성적이었던 학생은 전교 석차 상위 2를 기록했습니다 이를 통해 현안을 정확히 분석 및 진단하는 태도와 문제의 본질적인 부분을 해결하려는 태도가 중요하다는 것을 배웠습니다좋은점 2 글자수 938자161byt어\n",
            "Decoded sentence: 끈기의 영업인의 소통                                                                                                                                                    \n",
            "answer sentence: \"학생의 정확한 실력 파악을 통한 본질적인 문제의 진단 및 해결\"\n",
            "\n",
            "\n",
            "-\n",
            "<class 'dict'> {'vowel': 'e'}\n",
            "Input sentence: 더 편리한 사회를 만드는 기술의 발전에 기여하는 일에 동참하고자 합니다 전자공학 전공으로 반도체공학을 접하게 되면서 4차 산업혁명의 차세대 기술의 핵심이 반도체에 있다는 것을 배우게 되었습니다 그 길로 반도체 분야에 흥미를 가지고 집적회로공정을 수강하며 공정 지식까지 범위를 확장했습니다 그리고 학교에서 배울 수 없었던 8대 공정 실습에 도전하여 전문성을 쌓아왔습니다 흥미에서 비롯된 반도체에 대한 열정은 전문성을 갖춘 반도체 공정 엔지니어로의 방향성을 확고히 해주었습니다좋은점 1삼성전자는 세계 반도체 메모리 시장을 선도하는 위치에 있으면서도 최근 차세대 모바일 메모리인 512gb 어으fㅅ 3을 세계 최초로 양산함으로써 차세대 스마트폰 메모리 시장 선점까지 도전하는 모습을 보여주었습니다 그래서 저의 반도체 지식과 도전정신을 최대로 발휘할 수 있고 반도체 엔지니어의 방향성을 제시해 줄 수 있는 기업은 삼성전자뿐이라 생각하여 지원하게 되었습니다아쉬운점 1입사 후에는 실제 공정 업무에 필요한 지식을 능동적 자발적으로 습득하겠습니다 그리고 반도체에 대한 열정으로 쌓은 역량을 발휘하여 같은 열정을 가진 동료들과 더 면밀한 수율 프로세스를 수립하고 미세공정의 한계를 돌파해 나가겠습니다 나아가 기술력과 생산성을 동시에 갖춘 반도체 제품을 선보여 고객만족을 실현하는 것이 삼성전자에서 이루고 싶은 꿈입니다아쉬운점 2 글자수 71자1211byt어\n",
            "Decoded sentence: 방향성을 가진 엔지니어                                                                                                                                                 \n",
            "answer sentence: \"방향성을 가진 엔지니어\"\n",
            "\n",
            "\n",
            "-\n",
            "Input sentence: 반도체 공정기술 직무는 생산성 향상이라는 목표를 위해 반도체 8대 공정 지식을 바탕으로 공정 이슈 d앋알을 효과적으로 분석하여 개선을 통한 공정 최적화 및 단순화에 기여해야 합니다 그래서 반도체와 반도체 공정 지식 수학을 통한 전공 지식과 전문적인 d앋아 분석 역량을 필수로 갖춰야 한다고 생각합니다 저는 이를 갖춘 엔지니어가 되기 위해 다음과 같은 지식과 경험을 쌓으며 전문성을 갖춘 반도체 공정기술 엔지니어의 토대를 다졌습니다아쉬운점 1 전공 기초지식 습득과 직무 연관 실습 경험 반도체공학 를 수강하여 반도체의 동작원리를 포함한 기초 전공 지식을 쌓으며 자연스럽게 반도체에 관심을 가지게 되었습니다 그리고 집적회로공정을 수강하게 되면서 반도체 공정 프로세스를 배우고 실제 공정 이슈에 대한 궁금증을 가지게 되었습니다 이 궁금증을 해결하고자 직접 f아b에서 실습을 해보고 싶어졌습니다 그래서 나노기술연구협의회 주관 나노소자공정교육에 지원했습니다 공정 이론 시험에 응시하고 합격하여 직접 방진복을 입고 한국나노기술원의 f아b에서 반도체 공정 과정을 실습하는 시간을 가지며 궁금증을 해결하게 되었습니다 이처럼 반도체에 대한 끝없는 호기심은 전문성을 갖추게 해주었습니다아쉬운점 2 d앋아 안알yt잊ㅅ 경험 대학교 연구원으로 근무하며 임상실험 관리와 데이터 분석 및 연구 업무를 수행한 경험이 있습니다 다양한 웨어러블 측정기기들을 사용하여 전자기기에 대한 인체의 반응성을 연구하고 d앋알을 전문적으로 분석하는 능력을 길렀습니다 분석한 d앋알을 바탕으로 임상실험에서 발생하는 이슈를 동료들과 협업하여 개선해내며 협업에 필요한 의사소통능력 또한 향상시켰습니다이러한 저의 반도체 공정지식과 분석능력을 삼성전자에 적재적소에 활용하겠습니다 공정 프로세스와 이슈 d앋알을 전략적으로 분석하고 수율 개선에 끈질기게 매달리는 공정 최적화에 도움이 되는 신입사원으로 녹아들겠습니다아쉬운점 3 글자수 999자177byt어\n",
            "Decoded sentence: 최고의 방연겠습니다                                                                                                                                                   \n",
            "answer sentence: \"전공 지식과 연구원 경력으로 다진 직무 역량 최적화\"\n",
            "\n",
            "\n",
            "-\n",
            "<class 'dict'> {'vowel': 'o'}\n",
            "Input sentence: 회계 분야에 전문성을 높이기 위해 교내 방과 후 수업을 통해 자격증 취득에 노력했습니다 학기 중 17시부터 21시 방학 중에는 9시부터 17시까지 이뤄지는 수업이었습니다 그뿐만 아니라 수업을 같이 듣는 친구들과 주말에 자격증 공부를 할 수 있는 스터디 모임을 해 함께 취득하는 길을 마련하기도 했습니다결과적으로 저뿐만 아니라 친구들 모두 전산회계 1급을 취득할 수 있었습니다 더 나아가 정기적인 스터디 모임을 가지기로 했고 시간이 지나 저는 회계 자격증 5개 읻 자격증 1개 오아 자격증 2개 서비스 자격증 1개 총 9개의 자격증을 취득할 수 있었습니다좋은점 1이 부분들이 한국국제협력단의 미션과 비전이 연계됩니다미션은 누구도 소외받지 않는 사람 중심의 평화와 번영을 위한 상생의 개발협력입니다 혼자가 아닌 자격증을 취득하고자하는 친구들을 모아 스터디 모임을 만들어 함께 자격증을 취득할 수 있도록 했습니다 그 결과 서로 협력적으로 잘 이끌어가고 성장할 수 있는 모습을 볼 수 있었습니다 입사 후에도 협력적인 태도와 사람 중심적인 태도를 갖춘 사원이 되겠습니다아쉬운점 1비전은 글로벌 사회적 가치를 실천하는 대한민국 개발협력 대표기관입니다 자격증 취득으로 전문성을 키우고 그에 따른 ㄱ럽 ㅅ아rㄷ 아 ㅅ릇 총 3가지 회계 프로그램을 활용할 수 있는 실무능력도 키웠습니다 입사 후에도 취득했던 자격증과 실무능력으로 사회적 가치를 실현할 수 있는 사원이 되겠습니다좋은점 2 글자수 772자1297byt어\n",
            "Decoded sentence: 재쩍 소조를 잡고                                                                                                                                                            \n",
            "answer sentence: \"배운 것과 경험을 한국국제협력단에 적용시키겠습니다\"\n",
            "\n",
            "\n",
            "-\n",
            "Input sentence: 건강은 차별화되지 않고 모든 인류가 기본적으로 누려야 할 권리입니다 저는 한국국제협력단에 입사 후 보건의료 사업에 이바지하여 모두가 건강을 보장받을 수 있는 목표가 있습니다 아쉬운점 1다문화가족행복나눔센터에서 봉사한 경험이 있습니다 아프리카에서 오신 다문화가족이 이곳에 오셔서 의료지원을 받으시거나 노동을 위한 교육 상담 취업알선 등을 도와드리는 봉사 활동을 했었습니다 주로 의료지원 파트에서 활동을 했었는데 건강을 보장받지 못하는 외국인분들이 의료분야에서 도움이 필요한 모습을 볼 수 있었습니다 이러한 모습을 보며 건강 문제가 시급하다는 것을 알 수 있었습니다좋은점 1한국국제협력단은 의료사업을 추진하고 있고 실제로도 성과를 이루어 낸 사례가 있습니다꼬마스구 지역에서 모자보건사업 및 결핵 예방을 추진하여 주민 27만 명의 접근성이 향상되는 모습을 볼 수 있었습니다 결과적으로 환자 수가 2배 증가할 수 있었고 리마 북부지역 45개 보건소 중 진료 수 3위에 드는 성과가 나타났습니다 이러한 사례를 보며 저도 보건 중기전략에 참여하여 차별 없이 모든 사람이 건강하고 존중받을 수 있는 사회를 만들고 보건의료서비스를 제공해서 건강을 보장받는 환경을 만들고 싶다는 목표가 생겼습니다아쉬운점 2입사 후 모두가 건강을 보장할 수 있는 사회를 만드는 것을 목표로 언젠가 건강을 보장받을 수 있고 외국인분들이 웃을 수 있는 환경을 만드는 그 날까지 사업에 이바지하는 것을 멈추지 않고 노력하고 개선하는 사원이 되겠습니다                        글자수 77자1326byt어\n",
            "Decoded sentence: 인적자원이 식ㅈ엑 전문가                                                                                                                                                   \n",
            "answer sentence: \"모두가 건강을 보장받는 것을 목표로\"\n",
            "\n",
            "\n",
            "-\n",
            "Input sentence: 한국국제협력단은 고객과의 열린 소통으로 불만과 의견을 적극적으로 수용하여 개선하고 있습니다 홈페이지에 고객과 통이라는 목차가 있었고 고객의 소리에 귀 기울이는 모습들을 보며 고객중심을 최우선으로 하는 경영이라는 것을 알 수 있었습니다 그러므로 기대하는 역량은 고객과 소통하는 것이라 생각합니다아쉬운점 1저는 커피에 대해서 학습하고 실제로 커피를 추출하여 제작하는 동아리 활동을 했었습니다 커피를 판매하는 날이 한 학기에 3회 정도 있는데 판매를 하는 동안 고객과의 소통이 짧을 수밖에 없었습니다 어떻게 하면 적극적으로 소통할 수 있는지 생각을 했고 고민 끝에 ㅅㅅ을 통해 고객의 의견 불만 등을 받고 개선할 수 있도록 노력했습니다한 번은 선생님께서 배달 서비스를 해달라고 권유를 하신 적이 있었습니다 고객이 원하는 것을 우선시하는 저희는 의견을 적극적으로 반영하였고 다음 날 아침에 출근했을 때 받아 갈 수 있도록 아침에 일찍 나와서 준비하고 교무실과 교실로 가져다주는 배달서비스를 시작했습니다그 결과 한 달이 지나자 이용해주신 선생님들께서 만족해하시는 모습을 볼 수 있었습니다 그리고 선생님들 사이에서 구전효과가 일어나 이용해주시는 분들이 늘어나 수익을 높일 수 있었습니다 동아리 외적으로도 부원들이 커피를 만들기 위해 일찍 등교를 해서 생활태도도 부쩍 개선되었습니다아쉬운점 2이런 경험을 한국국제협력단에 적용해서 고객의 소리에 귀 기울이고 의견과 불만에 적극적으로 수용하고 개선해 최상의 서비스를 제공해드릴 수 있는 사원이 되겠습니다                        글자수 784자1356byt어\n",
            "Decoded sentence: 끝없는 노력에 불가능성은 없다                                                                                                                                   \n",
            "answer sentence: \"고객의 소리에 경청\"\n",
            "\n",
            "\n",
            "-\n",
            "Input sentence: 체력이 좋지는 않았지만 친구와 함께할 수 있었기 때문에 어렸을 때부터 배드민턴을 즐겨 왔습니다 학창시절에는 배드민턴 동아리에 가입하여 자 시간에 친구들과 함께 배드민턴을 하기도 했습니다 쉬운 운동이라고 생각했던 배드민턴이 연습을 하면 할수록 매우 격렬하고 많은 체력을 요구하는 운동이라는 것을 알게 됐습니다 잦은 부상에 시달리기도 했지만 동아리 활동을 꾸준히 이어나가며 결국은 2시간 동안 배드민턴을 하더라도 지치지 않는 체력을 갖게 됐습니다 또한 배드민턴은 함께해야 하는 운동이기 때문에 상대방과 페이스를 맞춰 함께 호흡하며 협동심을 느낄 수 있었습니다 이러한 경험을 통해 얻은 강한 체력과 포기하지 않는 끈기로 1년간의 재수생활 또한 성공적으로 마무리할 수 있었습니다 아쉬운점 1\n",
            "Decoded sentence: 꾸준한 관리를 위한 한국야관름                                                                                                                                  \n",
            "answer sentence: \"배드민턴이 만들어준 끈기\"\n",
            "\n",
            "\n",
            "-\n",
            "<class 'dict'> {'vowel': 'o'}\n",
            "<class 'dict'> {'initial': '', 'vowel': 'o'}\n",
            "<class 'dict'> {'initial': '', 'vowel': 'o'}\n",
            "<class 'dict'> {'vowel': 'o'}\n",
            "<class 'dict'> {'initial': '', 'vowel': 'o'}\n",
            "<class 'dict'> {'initial': '', 'vowel': 'o'}\n",
            "Input sentence: 4학년 1학기에 일본의 오오오옫애학에 교환학생으로 다녀온 경험이 있습니다 제가 전공한 섬유에 대해 더 많이 배우고 일본어를 배우고자 일본을 선택하게 됐습니다 하지만 오오오옫애학의 유학생 중 일본어 비전공자는 저뿐이었기 때문에 처음에는 일본어 수업도 전혀 이해하지 못했고 의사소통뿐만 아니라 대중교통을 이용하는데도 어려움을 겪어야 했습니다 하지만 좌절하지 않고 영어를 섞어 쓰거나 사전을 이용해 대화를 이어나갔습니다 또한 배드민턴과 영어 동아리에 가입해 활동하면서 2명의 일본인 친구들도 사귈 수 있었습니다 점심시간마다 그 친구들과 일본어만을 사용하여 대화했고 매주 세 편의 일본 드라마를 자막 없이 보면서 일본어 실력을 향상시키기 위해 노력했습니다 그 결과 교환학생을 다녀와서 보았던 일본어 회화 시험 옵잊에서 알을 받을 수 있었고 근교로 여행을 다닐 정도로 일본 생활에 완벽히 적응하게 됐습니다 이처럼 낯선 해외에서의 반년 간의 경험을 통해 일본어뿐만 아니라 새로운 환경에 처하더라도 두려워하지 않고 적응하는 법을 배웠습니다\n",
            "Decoded sentence: 과정에서의 배움과 결과에서 성췰 수 있는 개발자                                                                                                          \n",
            "answer sentence: \"교환학생으로 얻은 적응력\"\n",
            "\n",
            "\n",
            "-\n",
            "Input sentence: 대학가의 디저트 카페에서 아르바이트를 했던 경험이 있습니다 앱을 통해 주문할 수 있었기 때문에 일반 카페보다 많은 주문을 소화해야 했습니다 하지만 주문이 밀려 배달시간이 지연되어 손님들이 불편을 겪는 문제가 자주 발생했습니다 냉동 창고에 디저트를 보관하는 정해진 방식이 없어 뒤죽박죽으로 섞여 있었기 때문에 주문이 들어올 때마다 창고에서 디저트를 일일이 찾아야 한다는 것이 원인이었습니다 문제를 해결하기 위해 손님들이 주문하는 빈도에 따라 창고의 칸을 구분해 보관하여 디저트를 찾는 데 걸리는 시간을 단축시켰습니다 또한 피크시간대인 1921시에 주문이 밀리는 것을 해소하기 위해 주방 근처에 디저트를 보관할 수 있는 소형 냉장고를 추가로 설치할 것을 제안하기도 하였습니다 이러한 개선을 통해 주문 접수에서 배달완료까지 걸리는 평균적인 시간을 약 1분 정도 감소시키는 효과를 얻을 수 있었습니다 이처럼 손님들이 겪는 불편사항을 없애기 위해 노력한 사례를 통해서 고객을 위한 품질 관리를 경험해 볼 수 있었습니다아쉬운점 2 글자수 153자2594byt어\n",
            "Decoded sentence: 성장에 함께할 공학도                                                                                                                                                   \n",
            "answer sentence: \"아르바이트를 통한 품질개선\"\n",
            "\n",
            "\n",
            "-\n",
            "Input sentence: 대학가의 디저트 카페에서 아르바이트했던 경험이 있습니다 앱을 통해 주문할 수 있었기 때문에 일반 카페보다 많은 주문을 소화해야 했습니다 하지만 주문이 밀려 배달시간이 지연되어 손님들이 불편을 겪는 문제가 자주 발생했습니다 냉동 창고에 디저트를 보관하는 정해진 방식이 없어 뒤죽박죽으로 섞여 있었기 때문에 주문이 들어올 때마다 창고에서 디저트를 일일이 찾아야 한다는 것이 원인이었습니다 문제를 해결하기 위해 손님들이 주문하는 빈도에 따라 창고의 칸을 구분해 보관하여 디저트를 찾는 데 걸리는 시간을 단축했습니다 또한 피크시간대인 1921시에 주문이 밀리는 것을 해소하기 위해 주방 근처에 디저트를 보관할 수 있는 소형 냉장고를 추가로 설치할 것을 제안하기도 하였습니다 이러한 개선을 통해 주문 접수에서 배달완료까지 걸리는 평균적인 시간을 약 1분 정도 감소시키는 효과를 얻을 수 있었습니다 이처럼 손님들이 겪는 불편사항을 없애기 위해 노력한 사례를 통해서 고객을 위한 품질 관리를 경험해 볼 수 있었습니다아쉬운점 1 글자수 537자928byt어\n",
            "Decoded sentence: 실패로부터 신뢰를 배우다                                                                                                                                            \n",
            "answer sentence: \"아르바이트를 통한 품질개선\"\n",
            "\n",
            "\n",
            "-\n",
            "<class 'dict'> {'vowel': 'o'}\n",
            "<class 'dict'> {'initial': 'm', 'vowel': 'a'}\n",
            "<class 'dict'> {'initial': 't', 'vowel': 'o'}\n",
            "Input sentence: 학부 과정에서 유기화학 고분자화학 과목을 수강하며 식품부문의 품질관리에 필요한 화학적 요소를 체계적으로 공부하였습니다 섬유 공정 과목에서는 제품 생산 공정을 배우면서 회사가 추구하는 궁극적 목표는 제품을 통한 이윤추구임을 배울 수 있었고 효율적인 원가절감의 필요성과 품질개선의 중요성을 알게 되었습니다 또한 섬유 가공 과목에서는 필요한 성질을 가진 고분자를 사출해내기 위해 어떤 가공처리가 이루어지는지도 자세히 배울 수 있었습니다 3학년 1학기에는 섬유요소설계수업에서 충전식 열선 침낭을 제작했던 경험이 있습니다 다양한 종류의 섬유들을 후보군으로 설정한 뒤 섬유 자체의 보온성 및 전자파 차단 특성을 비교분석하는 d오얼을 진행하였습니다 또한 여러 종류의 배터리 특성을 비교하며 분석하였고 v억완점으로 생각하며 효율적으로 제품의 가치를 높이기 위해 노력하였습니다 이렇게 심화 섬유 시스템 공학의 전공 지식을 습득하며 품질관리에 필요한 전문성을 기를 수 있었습니다 또한 6시그마 교육을 통해 d마잊프로세스를 이해하고 미니 탭과 같은 통계 도올을 활용하여 데이터를 분석해보며 품질관리의 기초를 다질 수 있었습니다 한 치의 결점도 없는 제품이 만들어지도록 엄격하고 철저하게 품질관리를 수행하여 보다 높은 안전성을 가진 제품을 만들고 싶습니다 또한 품질개선을 위해 끊임없이 노력하여 삼양 그룹의 제품이 세계에서 최고의 품질이라는 인식을 고객들의 마음속에 각인시키고 싶습니다아쉬운점 1 글자수 763자1318byt어\n",
            "Decoded sentence: 준비된 영업맨                                                                                                                                                             \n",
            "answer sentence: \"준비된 품질 엔지니어\"\n",
            "\n",
            "\n",
            "-\n",
            "<class 'dict'> {'vowel': 'o'}\n",
            "<class 'dict'> {'initial': '', 'vowel': 'o'}\n",
            "Input sentence: 중학교 3학년 담임선생님께서 외국어 고등학교에 지원해보면 어떻겠냐는 제안을 하셨습니다 단순히 영어와 일본어를 좋아했던 저에게는 외고라는 특목고는 큰 도전으로 다가왔습니다 지원서 접수 기간까지 남은 한 학기 동안 꼼꼼하게 계획을 세워 공부하였고 영어와 일본어 과목에서 전교 1등이라는 등수를 얻을 수 있었습니다 이로 인해 오오외국어고등학교 일어과에 진학할 수 있었습니다 이 경험으로 매번 목표를 성취하기 위해 꼼꼼히 계획을 세우고 자신감을 가지고 차근차근 준비한다면 무엇이든 할 수 있다는 가치관을 갖게 되었습니다 아쉬운점 1값진 자산 친화력저는 사람들과 어울리는 것을 좋아합니다 그렇기 때문에 다양한 분야의 사람들을 만났고 저의 뛰어난 친화력으로 지금까지 소중한 인연들을 곁에 두고 있습니다 우리 봉사단이라는 지역 봉사단체에 가입해 봉사라는 같은 목표를 가지고 온 다양한 분야의 사람들도 사귈 수 있었고 일본 교환학생에 가서도 2개의 동아리에 가입해 많은 친구를 사귈 수 있었습니다 또한 아르바이트를 통해 같이 일하던 아르바이트생은 물론 단골손님들까지 좋은 인연으로 이어졌습니다 제가 쌓아온 인간관계야말로 돈으로 살 수 없는 값진 자산이라고 생각합니다 저의 친화력은 효성에 입사해서도 다양한 분야에서 좋은 인연들을 만들어 갈 수 있다고 생각합니다아쉬운점 2 글자수 697자1199byt어\n",
            "Decoded sentence: 프로세스개선이 팀 성과에 미치는 영향                                                                                                                        \n",
            "answer sentence: \"외국어 고등학교 진학을 위한 도전\"\n",
            "\n",
            "\n",
            "-\n",
            "<class 'dict'> {'vowel': 'o'}\n",
            "<class 'dict'> {'initial': '', 'vowel': 'o'}\n",
            "<class 'dict'> {'initial': '', 'vowel': 'o'}\n",
            "Input sentence: 생산기술 직무 수행 시 필요한 역량은 문제해결능력 의사소통 능력 외국어능력이라고 생각합니다 대학가의 디저트 카페에서 아르바이트를 했던 경험이 있습니다 앱을 통해 주문할 수 있었기 때문에 일반 카페보다 많은 주문을 소화해야 했습니다 하지만 주문이 밀려 배달시간이 지연되어 손님들이 불편을 겪는 문제가 자주 발생했습니다 냉동 창고에 디저트를 보관하는 정해진 방식이 없어 뒤죽박죽으로 섞여 있었기 때문에 주문이 들어올 때마다 창고에서 디저트를 일일이 찾아야 한다는 것이 원인이었습니다 문제를 해결하기 위해 손님들이 주문하는 빈도에 따라 창고의 칸을 구분해 보관하여 디저트를 찾는 데 걸리는 시간을 단축시켰습니다 또한 피크시간대인 1921시에 주문이 밀리는 것을 해소하기 위해 주방 근처에 디저트를 보관할 수 있는 소형 냉장고를 추가로 설치할 것을 제안하기도 하였습니다 이러한 개선을 통해 주문 접수에서 배달완료까지 걸리는 평균적인 시간을 약 1분 정도 감소시키는 효과를 얻을 수 있었습니다 이처럼 손님들이 겪는 불편사항을 없애기 위해 고객과 직접 의사소통을 하며 문제를 해결할 수 있었습니다 아쉬운점 14학년 1학기에 전공인 섬유와 일본어를 배우고자 일본의 오오오옫애학에 교환학생을 다녀왔습니다 처음에는 일본어 수업도 전혀 이해하지 못했고 의사소통뿐만 아니라 대중교통을 이용하는데도 어려움을 겪어야 했습니다 하지만 좌절하지 않고 영어를 섞어 쓰거나 사전을 이용해 대화를 이어나갔습니다 또한 배드민턴과 영어 동아리에 가입해 활동하면서 2명의 일본인 친구들도 사귈 수 있었습니다 점심시간마다 그 친구들과 일본어만을 사용하여 대화했고 매주 세 편의 일본 드라마를 자막 없이 보면서 일본어 실력을 향상시키기 위해 노력했습니다 그 결과 교환학생을 다녀와서 보았던 일본어 회화 시험 옵잊에서 알을 받을 수 있었습니다 이처럼 일본에서의 반년 간의 경험을 통해 일본어뿐만 아니라 새로운 환경에 처하더라도 두려워하지 않고 적응하는 법을 배웠습니다아쉬운점 2 글자수 116자1752byt어\n",
            "Decoded sentence: 전공과 도전하는 꼼꼼한 영업인                                                                                                                                     \n",
            "answer sentence: \"글로벌 생산기술 엔지니어\"\n",
            "\n",
            "\n",
            "-\n",
            "<class 'dict'> {'vowel': 'o'}\n",
            "<class 'dict'> {'vowel': 'o'}\n",
            "<class 'dict'> {'initial': '', 'vowel': 'o'}\n",
            "<class 'dict'> {'initial': '', 'vowel': 'o'}\n",
            "<class 'dict'> {'vowel': 'o'}\n",
            "<class 'dict'> {'initial': '', 'vowel': 'o'}\n",
            "<class 'dict'> {'vowel': 'o'}\n",
            "<class 'dict'> {'initial': '', 'vowel': 'o'}\n",
            "<class 'dict'> {'initial': '', 'vowel': 'o'}\n",
            "Input sentence: 대학생이 된다면 꼭 교환학생을 가야지라고 늘 생각해왔기에 남들보다는 조금 늦긴 했지만 4학년 1학기에 오오 오오오옫애학의 오오옥옹학부로 교환학생을 다녀왔습니다 고등학생 때부터 제2외국어로 공부했었고 대학에 와서도 교양과목으로 일본어를 수강하였습니다 그렇기 때문에 일본에서 직접 거주하며 그 나라의 문화와 언어를 배우고 싶단 생각을 했습니다 또한 일본은 섬유 분야에서도 시장규모가 큰 나라였기에 교환학생을 갈 나라로 일본을 선택하였습니다좋은점 1제 목표는 교환학생을 다녀와서 일본어 회화시험인 옵잊에서 높은 레벨을 받을 정도의 실력을 만들어오는 것이었습니다 하지만 오오오옫애학은 한국인 유학생 수도 적을 뿐만 아니라 유학생 중 일본어 비전공자는 저뿐이었기 때문에 처음에는 일본어 수업도 전혀 이해하지 못했고 의사소통뿐만 아니라 대중교통의 이용에도 어려움을 겪어야 했습니다 아쉬운점 1포기하고 싶던 적도 많았지만 영어를 섞어 쓰거나 일본어사전을 이용해 실력향상에 매진하였습니다 배드민턴 동아리와 영어 동아리에 가입해 활동하였고 그곳에서 2명의 일본인 친구들과 친해질 수 있었습니다 점심시간마다 그 친구들과 일본어만을 사용하여 대화했고 매주 수업 복습과 함께 세 편의 일본 드라마를 자막 없이 보면서 일본어 실력을 향상시키기 위해 노력했습니다 따라서 한국으로 돌아오기 두 달 전부터 일본인 친구들과의 대화가 무리 없이 가능하게 되었고 혼자서도 일본 곳곳의 여행지에도 다녀오는 등 다양한 경험도 할 수 있게 되었습니다 또한 일본어로 수강하였던 심화 유기화학이라는 전공 또한 가장 높은 성적을 받을 수 있었습니다 그 결과 귀국 후에도 비즈니스 일본어 회화 공부를 준비하여 일본어 옵잊 시험에서 알이라는 가장 높은 레벨을 받을 수 있었습니다 좋은점 2이처럼 반년동안 살면서 가장 적극적인 생활을 했던 일본 교환학생 경험을 토대로 ㅅ이노베이션에서도 목표를 가지고 매사에 적극적인 엔지니어가 되도록 노력하겠습니다                        글자수 994자1715byt어\n",
            "Decoded sentence: 적극적인 사고                                                                                                                                                                 \n",
            "answer sentence: \"적극적인 교환학생\"\n",
            "\n",
            "\n",
            "-\n",
            "<class 'dict'> {'initial': 'm', 'vowel': 'a'}\n",
            "<class 'dict'> {'initial': 't', 'vowel': 'o'}\n",
            "<class 'dict'> {'vowel': 'o'}\n",
            "Input sentence: 학부 시절에 유기화학과 고분자화학 과목을 수강하며 배터리 생산기술 직무에 필요한 화학적 요소를 체계적으로 공부하였습니다 특히 전극 공정의 미x잉을 하는 과정에서 활물질에 도전제와 바인더를 넣고 이를 녹여주기 위한 유기용매를 용해도인자를 고려하여 선택하는 법을 고분자화학 시간에 배울 수 있었습니다 또한 섬유화학 시간에 배운 보 ㅃ 등의 고분자가 배터리의 분리막으로 이용되어 안전성을 부여한다는 특성을 배울 수 있었습니다 또한 6시그마 교육을 통해 d마잊프로세스를 이해하고 미니 탭과 같은 통계 도올을 활용하여 데이터를 분석해보며 품질관리의 기초를 다질 수 있었습니다 생산기술 직무는 분석력과 협업 책임감이 필수적이라고 생각합니다 이를 위해서 저는 설계 프로젝트와 다양한 아르바이트 2년간의 봉사활동 등을 하며 생산기술 직무에 필요한 역량을 길러왔다고 생각합니다 아쉬운점 1또한 3학년 1학기의 섬유요소설계수업에서 충전식 열선 침낭을 제작했던 경험이 있습니다 다양한 종류의 섬유들을 후보군으로 설정한 뒤 섬유 자체의 보온성 및 전자파 차단 특성을 비교분석하는 d오얼을 진행하였습니다 그 결과 가장 이상적이라고 판단되는 갑옦와 ㅁf섬유를 사용하여 우수한 품질의 침낭을 만들 수 있었습니다 또한 여러 종류의 배터리 특성을 비교하며 분석하였고 그에 맞는 형태와 용량의 배터리를 고르며 v억완점으로 생각하며 효율적으로 제품의 가치를 높이기 위해 노력했던 경험이 있습니다 이 경험을 통해 섬유전공지식과 엔지니어의 역량을 습득하며 생산기술 직무에 필요한 전문성을 기를 수 있었습니다 아쉬운점 2이처럼 한 치의 결점도 없는 제품이 만들어지도록 엄격하고 철저하게 품질관리를 수행하여 보다 높은 안전성을 가진 제품을 만들고 싶습니다 또한 품질개선을 위해 끊임없이 노력하여 ㅅ이노베이션의 제품이 세계에서 가장 안전한 제품이라는 인식을 고객들의 마음속에 각인시키고 싶습니다                        글자수 981자1674byt어\n",
            "Decoded sentence: 구체적인 전문성                                                                                                                                                         \n",
            "answer sentence: \"준비된 품질 엔지니어\"\n",
            "\n",
            "\n",
            "-\n",
            "<class 'dict'> {'initial': '', 'vowel': 'e'}\n",
            "Input sentence: 3학년 1학기 섬유요소설계수업에서 캠핑에서 이용될 수 있는 섬유제품을 설계하고 직접 제작하는 프로젝트를 수행한 적이 있습니다 캠핑 제품 중에서 평소 관심이 있었던 배터리와 보온성 섬유를 접합한 충전이 가능한 충전식 열선 침낭을 설계 주제로 정하였습니다 일반적인 침낭은 캠핑에서 쓰이는 제품으로 보온성을 목적으로 하지만 섬유소재로만 이루어져 있다는 점을 개선해보자는 생각이 들었습니다 우선 전기장판의 열선과 휴대용 충전이 가능한 보조배터리의 기능을 침낭에 접목하기로 하였습니다 갑옦와 같은 보온성 소재를 이용하여 침낭의 기능을 향상시키고 이에 열선의 기능을 추가하여 보온성을 증대시키는 것이 목적이었습니다 ㅂr옫옫yp어으로 제작했던 침낭의 사이즈에 맞게 열선을 제작 및 준비하고 그 열선에 맞는 용량의 배터리를 비교분석하여 선택하였습니다 주변은 오로지 섬유에 한정된 제품을 제작하는 팀이 많았고 그래서인지 섬유와 열선 배터리를 접목시킨 저희 팀의 설계 아이디어에 대한 부정적인 시선 또한 있었습니다 하지만 저희 팀은 포기하지 않고 직접 발품을 뛰며 섬유시장에 가서 원단과 소재를 골랐고 기계과 교수님을 찾아뵈어 열선과 배터리에 대한 조언을 구했으며 전기상에 가서 열선과 배터리 재료를 구매하여 설계를 진행하였습니다 좋은점 1그 결과 성공적으로 제작을 완성할 수 있었고 전공 교수님에게 좋은 평가 또한 받을 수 있었습니다 비록 기업체 분의 평가에서 열선이 만져지는 것을 보완하면 좋겠다는 피드백을 받았습니다 하지만 이 피드백 또한 다음 설계과목의 수강 시 참고하는 좋은 밑거름이 된다고 확신하였기 때문에 이 경험을 통해 확신이 없는 새로운 일 또한 자신감을 가지고 도전한다면 좋은 결과를 이끌어 낼 수 있다는 것을 배울 수 있었습니다 아쉬운점 1 글자수 99자1557byt어\n",
            "Decoded sentence: 축어부 이루어푸드 시스템                                                                                                                                             \n",
            "answer sentence: \"충전식 열선 침낭\"\n",
            "\n",
            "\n",
            "-\n",
            "Input sentence: 다니고 있는 교회에서 시골교회 봉사활동 간 막내의 역할을 톡톡히 보여준 사례가 있습니다 교회에서 매년 여름마다 시골교회로 봉사활동을 가는 프로그램이 있었습니다 3박 4일이라는 시간 안에 해당 교회에 가서 지역주민들이 필요한 일도 해주고 교회 보수 및 어린아이들을 대상으로 수련회도 개최하는 등의 일을 이루고 오는 것이 우리의 목표였습니다그 당시 그 팀에서 나이도 가장 어렸고 경험도 적은 터라 일을 주도하는 역할은 아니었지만 많은 역할이 없다면 스스로 많은 역할을 담당하겠다고 생각하고 움직였습니다 그 당시 저는 간식 담당이었는데 간식을 직접 찾아가서 나눠주고 간식을 먹을 동안 제가 그 일을 대신 해주는 등 제 역할 외의 일도 계속해서 적극적으로 참여했습니다 굉장히 움직인 탓에 마치고 집에 돌아와서 몸살이 나긴 했지만 해야 할 일도 무사히 마치고 팀원들의 투표로 우수 봉사대원에도 뽑히는 뿌듯함을 누릴 수 있었습니다아쉬운점 1 글자수 491자842byt어\n",
            "Decoded sentence: 꾸준함이 가져온 신뢰                                                                                                                                                    \n",
            "answer sentence: \"묵묵히 따라가는 막내\"\n",
            "\n",
            "\n",
            "-\n",
            "Input sentence: 서빙 아르바이트를 하며 두 번 확인하는 원칙을 통해 동료들과 신뢰를 형성한 경험이 있습니다 직장가에서 점심장사를 하는 식당이었어 단기간에 많은 손님이 들어와 굉장히 바쁜 곳이었고 테이블 회전율이 빨라 정리주문서빙 과정이 급한 경우가 많았습니다 바쁘다 보니 실수하는 때도 자주 발생했고 그로 인해 손님들이 불편함을 겪는 경우도 많아 주방과 홀서빙부서의 신뢰관계가 좋지 않았습니다이를 해결하기 위해 스스로 무조건 두 번 확인해보자는 원칙을 세웠습니다 처음에는 손님도 주방 부분도 두 번씩 물어보는 것에 대해 귀찮아하고 시간 낭비라는 의견도 있었지만 두 번씩 확인한 이후로 한 건의 실수도 없게 되자 불만도 사라질 뿐 아니라 실수들이 사라져서 결과적으로 더 빠르게 일을 처리할 수 있게 되었습니다 신뢰라는 것은 느려 보이지만 오히려 더 빠른 길이라는 것을 알게 되었고 이 경험을 업무에도 연장해 빠르고 믿을 수 있는 인재가 되겠습니다아쉬운점 1 글자수 497자853byt어\n",
            "Decoded sentence: 꿈의 신약                                                                                                                                                                    \n",
            "answer sentence: \"느리지만 빠른 길\"\n",
            "\n",
            "\n",
            "-\n",
            "Input sentence: 제가 어릴 적 전기와 관련된 일을 하시는 아버지께서는 가끔 본인이 어떤 일을 하시는지 직접 보여주셨습니다 어린 나이에 본 설계도면이나 기기들을 이해하진 못했지만 신기하고 재밌다는 기억을 가진 채 커가면서 자연스럽게 전기에 관심을 가지게 되었고 전기와 관련된 과로 진학하게 되었습니다 처음에는 전기에 대한 막연함만 가지고 있었지만 대학교에 다니던 도중 211년 대정전 사태를 경험하게 되었고 처음으로 전기가 부족할 수도 있다는 것을 알게 되었습니다 이런 상황에 발전기 고장은 더 큰 피해를 줄 수 있다는 수업을 들으며 평소 전국에 있는 핵심 전력 장비의 유지보수를 맡은 한전ㄱ세 대해 알게 되었고 특히 발전설비 관련 분야에 관심을 끌게 되어 지원하게 되었습니다 좋은점 1이후 경험을 쌓기 위해 통신병 과로 군 복무를 하며 발전기와 그에 연결된 장비들을 다루어 보았고 이후 전기기사 자격증도 취득하여 관련 분야의 전문성을 높였습니다아쉬운점 1 글자수 496자844byt어\n",
            "Decoded sentence: 꾸준한 관심으로 사람을 바꾸다                                                                                                                                     \n",
            "answer sentence: \"발전설비 전문가의 꿈\"\n",
            "\n",
            "\n",
            "-\n",
            "Input sentence: 발전설비들에 대한 모든 것을 경험해 보며 전문가로 성장하고 싶습니다 비교적 규모가 작은 민간사업 발전설비 정비를 통해 다양한 문제를 직접 맞닥뜨려보고 그것들을 조치해 보며 엔지니어로서의 역량을 빠르고 강하게 키워나가고 싶습니다 또한 각종 발전소에서 매일 주기로 이뤄지는 경상정비를 통해 직접 고장 발생을 예측 예방하여 발전기가 최적의 운전상태로 불시정지되는 일이 없도록 이바지하고 싶습니다 또한 어쩔 수 없이 발생하는 고장에 대해서도 직접 조치하며 역량을 길러 나가고 싶고 더 나아가서는 매일매일의 수리 점검을 넘어 주간 월간 분기 등의 중장기 계획예방 정비를 수립하여 혹시라도 발생할 수 있는 문제점을 예방하여 전기를 발전하고 전기를 필요로 하는 곳에서 불의의 사고로 전기를 사용하지 못하는 일이 없도록 하고 싶습니다좋은점 1 글자수 431자744byt어\n",
            "Decoded sentence: 꼼꼼함과 성과                                                                                                                                                              \n",
            "answer sentence: \"고장예방 전문가\"\n",
            "\n",
            "\n",
            "-\n",
            "Input sentence: 한전ㄱㅅ은 비전 225 목표설정을 통해 글로벌 발전플랜트 해결사로의 도약을 꿈꾸고 있고 이를 달성하기 위해서 창의적이고 전문적인 글로벌 인재가 필요할 것입니다 이러한 인재가 되기 위해 우선 입사 초기에는 최대한 많은 것들을 경험하고 익힐 것입니다 각종 현장에서 직접 보고 익히는 것들과 선배들의 가르침들을 하나부터 열까지 놓치지 않고 익히며 한전ㄱ싀 특화기술 22가지를 바탕으로 많은 경험과 지식을 쌓아 직무 자격 전담자격 전문자격을 거쳐 슈퍼바이저 자격을 갖춘 감독기술자 자격을 갖추겠습니다또한 원전해체사업과 신재생에너지 등 변화하는 기술의 추세를 읽어 새로운 기술을 습득하고 더 나아가 해외시장에서의 경쟁력을 갖춘 글로벌 인재가 됨과 동시에 바른 인성으로 일하는 만능인재가 되기 위해 노력하겠습니다 전기 발전은 국가 산업과 국민 생활에 없어서는 안 될 중요한 부분입니다 발전이 중요한 만큼 발전이 이루어지는 설비들을 잘 관리하고 유지 보수하는 것은 굉장히 중요한 일이라고 생각합니다 앞서가는 정비계획 및 기술 발전을 통해 전국에 안정적 전력 공급에 이바지해나가는 ㄱ싀 일원으로서 성장해나가겠습니다좋은점 1 글자수 66자138byt어\n",
            "Decoded sentence: 학부 프로젝트 경험                                                                                                                                                      \n",
            "answer sentence: \"하나부터 열까지 만능 인재로\"\n",
            "\n",
            "\n",
            "-\n",
            "Input sentence: ㅆ좀은 최근 신설법인으로 새로 창립하였습니다 또 요즈음엔 기존의 유통업계 뿐만 아니라 네버와 카오같은 플랫폼업체에서도 온라인 쇼핑사업에 진출하여 꾸준히 투자하고 있습니다 이를 뛰어넘기 위해서는 각 경쟁업체의 특성을 분석하고 벤치마킹하여 ㅆ좀만의 차별화를 두어야 꾸준한 고객유추를 기대할 수 있다고 생각합니다 이를 해내기 위해서는 시장상황과 고객의 소비패턴을 분석할 수 있는 통찰력이 필요합니다 저는 여행업 재직기간 중 고객의 입장에서 생각하고 타사와 차별되는 상품을 팀원들과 협업하여 제안함으로써 새 상품을 기획하여 판매목표를 달성한 경험이 있고 이를 토대로 주도적으로 업무에 임할 것입니다 아쉬운점 1단기적으로는 빅데이터 등을 통한 고객의 소비패턴을 조사하고 분석하여 새로운 마케팅 기법이나 프로모션을 제안할 것이며 협력사 및 기획업체와 협업하여 상품을 기획하기도 할 것입니다 장기적으로는 타사를 분석하고 벤치마킹하여 ㅆ만의 고객유추를 하는데에 힘쓰겠습니다 최근 마켓리라는 신생유통업계에서는 신규가입 시 자사상품을 1원으로 파격할인하거나 샛별배송밤 11시전까지 주문 시 다음날 새벽 배송이라는 특성을 살려 주목받으며 성장하고 있습니다 이렇게 각광받는 포인트를 분석해보고 이점은 벤치마킹하여 새로이 진행될 프로모션에 적용할 수 있는 방안을 검토하겠습니다 아쉬운점 2 글자수 689자1193byt어\n",
            "Decoded sentence: 경쟁사와의 유혹                                                                                                                                                           \n",
            "answer sentence: \"경쟁사와의 차별성\"\n",
            "\n",
            "\n",
            "-\n",
            "Input sentence: 에어부산은 일반직 신입 직무과정에서 멘토링 제도를 합니다 이는 사내 동기 선배님들과 직접 친목을 다질 수 있는 기회입니다 입사 후 1년 이내 멘토링 제도를 통해 업무 투여 후에도 회사에 빠르게 적응하도록 노력하겠습니다항공사의 핵심은 고객님께 편리한 서비스를 제공하고 만족을 극대화하는 데 있다고 생각합니다 이것은 해당 항공사만의 서비스로 타사와 차별되는 데에 큰 역할을 합니다 공항 운송지원 업무는 직접 고객과 마주할 공항서비스직 직원을 지원하는 업무입니다아쉬운점 1입사 후 5년 내 멘토링 제도를 통해 임직원들께 먼저 인사를 건네고 서비스 직원들과도 교류하여 그들의 니즈를 통찰해 서비스 개선사항을 앞장서 고민하는 열정적인 직원으로 성장하겠습니다 최종적으로 에어부산을 이용하실 고객께 간접적인 서비스를 제공함으로써 최상의 만족을 도출할 수 있도록 하겠습니다에어부산의 일원으로 대한민국 1등의 편리한 서비스를 제공하도록 서포트하는 직원이 되겠습니다 아쉬운점 2 글자수 53자872byt어\n",
            "Decoded sentence: 가치를 만드는 사람                                                                                                                                                         \n",
            "answer sentence: \"숨겨진 서비스 아이콘\"\n",
            "\n",
            "\n",
            "-\n",
            "Input sentence: 운영지원 업무는 수요자의 입장에서 생각하며 답을 찾아내는 통찰력이 필요하다고 생각합니다저는 외국어 체험센터의 실습생으로 일하며 상대방 니즈를 읽는 통찰력으로 문제점을 개선한 경험이 있습니다 우리 팀의 체험 프로그램은 주로 초등학교 저학년 학생들을 대상으로 했습니다 당시 센터에서는 점심시간 1시간 동안 아이들을 효과적으로 통제할 방침이 없어서 고민하고 있었는데 그래서 선생님들은 점심시간 동안 발생할 수 있는 안전문제에 대비해 식사를 3분씩 교대로 해야 했습니다 고민 끝에 저는 식사 후 아이들이 집중할 수 있는 영화를 틀어주자는 의견을 냈습니다 이 의견은 대 성공이었고 운영팀장님께서는 앞으로도 꼭 영화를 틀어야겠다며 저를 크게 칭찬해주셨습니다 학생의 입장에서 생각하여 생각하였기 때문에 이뤄낸 결과라고 생각합니다 서울관광재단에서도 관광자의 입장에서 생각하며 문제점을 개선하며 긍정적인 변화를 일으키겠습니다아쉬운점 1 글자수 492자857byt어\n",
            "Decoded sentence: 사람을 파악하라                                                                                                                                                              \n",
            "answer sentence: \"작은 아이디어가 만든 큰 변화\"\n",
            "\n",
            "\n",
            "-\n",
            "Input sentence: 대학 입학 후 전공분야인 관광업에 관심을 가지고 공부에 임하였지만 공부를 할수록 관광업과 외국인은 뗄 레야 뗄 수 없는 관계라고 생각하여 외국어에 대한 필요성을 느끼게 되었습니다마침 교내 필리핀 어학연수 프로그램이 동계방학에 진행된다는 공고문을 보며 어학연수를 결심했습니다 어머니께서는 치안이 좋지 않은 동남아 지역에 딸 혼자 보내시는 것을 우려하셔서 다른 나라로 가는 것은 어떻겠냐 말씀하셨습니다 같은 시즌 올라왔던 호주 어학연수와 내용 비용 기간 등을 비교하여 말씀드렸고 결국 대화의 끝 무렵에는 어머니께서 호주를 보내실지 필리핀을 보내실지 의논하셨습니다 비교 대상을 정확히 알고 그에 기반을 두고 설득시켰기에 어머니께서는 저를 적극 지지해주셨습니다 좋은점 1누군가를 설득할 때는 적절한 비교대상을 제시한다면 좋은 결과를 얻을 수 있다는 것을 느꼈습니다 재단의 직원으로 일하며 객관적인 근거를 토대로 상대방을 설득하는 인재가 되겠습니다                          글자수 53자87byt어\n",
            "Decoded sentence: 경쟁                                                                                                                                                                          \n",
            "answer sentence: \"비교에 기반을 둔 설득\"\n",
            "\n",
            "\n"
          ],
          "name": "stdout"
        }
      ]
    },
    {
      "cell_type": "code",
      "metadata": {
        "colab_type": "code",
        "id": "BCXu_GtvDhFH",
        "colab": {}
      },
      "source": [
        ""
      ],
      "execution_count": 0,
      "outputs": []
    }
  ]
}